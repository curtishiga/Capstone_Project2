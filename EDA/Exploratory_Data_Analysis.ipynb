{
 "cells": [
  {
   "cell_type": "code",
   "execution_count": 1,
   "metadata": {},
   "outputs": [],
   "source": [
    "import pandas as pd\n",
    "import numpy as np\n",
    "import matplotlib.pyplot as plt\n",
    "import seaborn as sns\n",
    "import scipy.stats as stats"
   ]
  },
  {
   "cell_type": "code",
   "execution_count": 2,
   "metadata": {},
   "outputs": [],
   "source": [
    "# Import csv data\n",
    "df = pd.read_csv('..\\\\Data\\\\all_pitches.csv')"
   ]
  },
  {
   "cell_type": "code",
   "execution_count": 3,
   "metadata": {},
   "outputs": [
    {
     "data": {
      "text/html": [
       "<div>\n",
       "<style scoped>\n",
       "    .dataframe tbody tr th:only-of-type {\n",
       "        vertical-align: middle;\n",
       "    }\n",
       "\n",
       "    .dataframe tbody tr th {\n",
       "        vertical-align: top;\n",
       "    }\n",
       "\n",
       "    .dataframe thead th {\n",
       "        text-align: right;\n",
       "    }\n",
       "</style>\n",
       "<table border=\"1\" class=\"dataframe\">\n",
       "  <thead>\n",
       "    <tr style=\"text-align: right;\">\n",
       "      <th></th>\n",
       "      <th>game_id</th>\n",
       "      <th>batSide_code</th>\n",
       "      <th>batSide_des</th>\n",
       "      <th>batter</th>\n",
       "      <th>batter_id</th>\n",
       "      <th>call_des</th>\n",
       "      <th>inning_top_bot</th>\n",
       "      <th>pitchHand_code</th>\n",
       "      <th>pitchHand_des</th>\n",
       "      <th>pitch_type</th>\n",
       "      <th>...</th>\n",
       "      <th>strike_left</th>\n",
       "      <th>strike_down_right</th>\n",
       "      <th>strike_down</th>\n",
       "      <th>strike_down_left</th>\n",
       "      <th>call_B</th>\n",
       "      <th>call_C</th>\n",
       "      <th>call_F</th>\n",
       "      <th>call_H</th>\n",
       "      <th>call_S</th>\n",
       "      <th>is_out</th>\n",
       "    </tr>\n",
       "  </thead>\n",
       "  <tbody>\n",
       "    <tr>\n",
       "      <th>0</th>\n",
       "      <td>413661</td>\n",
       "      <td>L</td>\n",
       "      <td>Left</td>\n",
       "      <td>Matt Carpenter</td>\n",
       "      <td>572761</td>\n",
       "      <td>Called Strike</td>\n",
       "      <td>top</td>\n",
       "      <td>L</td>\n",
       "      <td>Left</td>\n",
       "      <td>FF</td>\n",
       "      <td>...</td>\n",
       "      <td>0</td>\n",
       "      <td>0</td>\n",
       "      <td>0</td>\n",
       "      <td>0</td>\n",
       "      <td>0</td>\n",
       "      <td>1</td>\n",
       "      <td>0</td>\n",
       "      <td>0</td>\n",
       "      <td>0</td>\n",
       "      <td>0</td>\n",
       "    </tr>\n",
       "    <tr>\n",
       "      <th>1</th>\n",
       "      <td>413661</td>\n",
       "      <td>L</td>\n",
       "      <td>Left</td>\n",
       "      <td>Matt Carpenter</td>\n",
       "      <td>572761</td>\n",
       "      <td>Swinging Strike</td>\n",
       "      <td>top</td>\n",
       "      <td>L</td>\n",
       "      <td>Left</td>\n",
       "      <td>FF</td>\n",
       "      <td>...</td>\n",
       "      <td>0</td>\n",
       "      <td>0</td>\n",
       "      <td>0</td>\n",
       "      <td>0</td>\n",
       "      <td>0</td>\n",
       "      <td>0</td>\n",
       "      <td>0</td>\n",
       "      <td>0</td>\n",
       "      <td>1</td>\n",
       "      <td>0</td>\n",
       "    </tr>\n",
       "    <tr>\n",
       "      <th>2</th>\n",
       "      <td>413661</td>\n",
       "      <td>L</td>\n",
       "      <td>Left</td>\n",
       "      <td>Matt Carpenter</td>\n",
       "      <td>572761</td>\n",
       "      <td>Foul</td>\n",
       "      <td>top</td>\n",
       "      <td>L</td>\n",
       "      <td>Left</td>\n",
       "      <td>FF</td>\n",
       "      <td>...</td>\n",
       "      <td>0</td>\n",
       "      <td>0</td>\n",
       "      <td>0</td>\n",
       "      <td>0</td>\n",
       "      <td>0</td>\n",
       "      <td>0</td>\n",
       "      <td>1</td>\n",
       "      <td>0</td>\n",
       "      <td>0</td>\n",
       "      <td>0</td>\n",
       "    </tr>\n",
       "    <tr>\n",
       "      <th>3</th>\n",
       "      <td>413661</td>\n",
       "      <td>L</td>\n",
       "      <td>Left</td>\n",
       "      <td>Matt Carpenter</td>\n",
       "      <td>572761</td>\n",
       "      <td>Ball</td>\n",
       "      <td>top</td>\n",
       "      <td>L</td>\n",
       "      <td>Left</td>\n",
       "      <td>FF</td>\n",
       "      <td>...</td>\n",
       "      <td>0</td>\n",
       "      <td>0</td>\n",
       "      <td>0</td>\n",
       "      <td>0</td>\n",
       "      <td>1</td>\n",
       "      <td>0</td>\n",
       "      <td>0</td>\n",
       "      <td>0</td>\n",
       "      <td>0</td>\n",
       "      <td>0</td>\n",
       "    </tr>\n",
       "    <tr>\n",
       "      <th>4</th>\n",
       "      <td>413661</td>\n",
       "      <td>L</td>\n",
       "      <td>Left</td>\n",
       "      <td>Matt Carpenter</td>\n",
       "      <td>572761</td>\n",
       "      <td>Ball</td>\n",
       "      <td>top</td>\n",
       "      <td>L</td>\n",
       "      <td>Left</td>\n",
       "      <td>CU</td>\n",
       "      <td>...</td>\n",
       "      <td>0</td>\n",
       "      <td>0</td>\n",
       "      <td>0</td>\n",
       "      <td>0</td>\n",
       "      <td>1</td>\n",
       "      <td>0</td>\n",
       "      <td>0</td>\n",
       "      <td>0</td>\n",
       "      <td>0</td>\n",
       "      <td>0</td>\n",
       "    </tr>\n",
       "  </tbody>\n",
       "</table>\n",
       "<p>5 rows × 60 columns</p>\n",
       "</div>"
      ],
      "text/plain": [
       "   game_id batSide_code batSide_des          batter  batter_id  \\\n",
       "0   413661            L        Left  Matt Carpenter     572761   \n",
       "1   413661            L        Left  Matt Carpenter     572761   \n",
       "2   413661            L        Left  Matt Carpenter     572761   \n",
       "3   413661            L        Left  Matt Carpenter     572761   \n",
       "4   413661            L        Left  Matt Carpenter     572761   \n",
       "\n",
       "          call_des inning_top_bot pitchHand_code pitchHand_des pitch_type  \\\n",
       "0    Called Strike            top              L          Left         FF   \n",
       "1  Swinging Strike            top              L          Left         FF   \n",
       "2             Foul            top              L          Left         FF   \n",
       "3             Ball            top              L          Left         FF   \n",
       "4             Ball            top              L          Left         CU   \n",
       "\n",
       "    ...   strike_left  strike_down_right  strike_down  strike_down_left  \\\n",
       "0   ...             0                  0            0                 0   \n",
       "1   ...             0                  0            0                 0   \n",
       "2   ...             0                  0            0                 0   \n",
       "3   ...             0                  0            0                 0   \n",
       "4   ...             0                  0            0                 0   \n",
       "\n",
       "   call_B  call_C  call_F  call_H  call_S  is_out  \n",
       "0       0       1       0       0       0       0  \n",
       "1       0       0       0       0       1       0  \n",
       "2       0       0       1       0       0       0  \n",
       "3       1       0       0       0       0       0  \n",
       "4       1       0       0       0       0       0  \n",
       "\n",
       "[5 rows x 60 columns]"
      ]
     },
     "execution_count": 3,
     "metadata": {},
     "output_type": "execute_result"
    }
   ],
   "source": [
    "df.head()"
   ]
  },
  {
   "cell_type": "markdown",
   "metadata": {},
   "source": [
    "# Exploratory Data Analysis"
   ]
  },
  {
   "cell_type": "markdown",
   "metadata": {},
   "source": [
    "For this project, we want to find out if we can optimize a pitcher's pitch count to get more outs in less pitches. More specifically, which pitches tend to be most effective against which batters and in what location? It's a common expression to pitch \"hard stuff in, soft stuff away\"; basically to pitch fastballs closer to a batter in the strikezone and off-speed pitches futher away from the batter. This analysis will look into that idiom and determine which pitches, and where, tend to lead to outs."
   ]
  },
  {
   "cell_type": "code",
   "execution_count": 4,
   "metadata": {},
   "outputs": [],
   "source": [
    "# Separate target variables\n",
    "target_cols = ['call_B', 'call_C', 'call_F', 'call_H', 'call_S', 'is_out']"
   ]
  },
  {
   "cell_type": "code",
   "execution_count": 5,
   "metadata": {},
   "outputs": [],
   "source": [
    "targets = df[target_cols]"
   ]
  },
  {
   "cell_type": "code",
   "execution_count": 6,
   "metadata": {},
   "outputs": [
    {
     "data": {
      "text/html": [
       "<div>\n",
       "<style scoped>\n",
       "    .dataframe tbody tr th:only-of-type {\n",
       "        vertical-align: middle;\n",
       "    }\n",
       "\n",
       "    .dataframe tbody tr th {\n",
       "        vertical-align: top;\n",
       "    }\n",
       "\n",
       "    .dataframe thead th {\n",
       "        text-align: right;\n",
       "    }\n",
       "</style>\n",
       "<table border=\"1\" class=\"dataframe\">\n",
       "  <thead>\n",
       "    <tr style=\"text-align: right;\">\n",
       "      <th></th>\n",
       "      <th>call_B</th>\n",
       "      <th>call_C</th>\n",
       "      <th>call_F</th>\n",
       "      <th>call_H</th>\n",
       "      <th>call_S</th>\n",
       "      <th>is_out</th>\n",
       "    </tr>\n",
       "  </thead>\n",
       "  <tbody>\n",
       "    <tr>\n",
       "      <th>0</th>\n",
       "      <td>0</td>\n",
       "      <td>1</td>\n",
       "      <td>0</td>\n",
       "      <td>0</td>\n",
       "      <td>0</td>\n",
       "      <td>0</td>\n",
       "    </tr>\n",
       "    <tr>\n",
       "      <th>1</th>\n",
       "      <td>0</td>\n",
       "      <td>0</td>\n",
       "      <td>0</td>\n",
       "      <td>0</td>\n",
       "      <td>1</td>\n",
       "      <td>0</td>\n",
       "    </tr>\n",
       "    <tr>\n",
       "      <th>2</th>\n",
       "      <td>0</td>\n",
       "      <td>0</td>\n",
       "      <td>1</td>\n",
       "      <td>0</td>\n",
       "      <td>0</td>\n",
       "      <td>0</td>\n",
       "    </tr>\n",
       "    <tr>\n",
       "      <th>3</th>\n",
       "      <td>1</td>\n",
       "      <td>0</td>\n",
       "      <td>0</td>\n",
       "      <td>0</td>\n",
       "      <td>0</td>\n",
       "      <td>0</td>\n",
       "    </tr>\n",
       "    <tr>\n",
       "      <th>4</th>\n",
       "      <td>1</td>\n",
       "      <td>0</td>\n",
       "      <td>0</td>\n",
       "      <td>0</td>\n",
       "      <td>0</td>\n",
       "      <td>0</td>\n",
       "    </tr>\n",
       "  </tbody>\n",
       "</table>\n",
       "</div>"
      ],
      "text/plain": [
       "   call_B  call_C  call_F  call_H  call_S  is_out\n",
       "0       0       1       0       0       0       0\n",
       "1       0       0       0       0       1       0\n",
       "2       0       0       1       0       0       0\n",
       "3       1       0       0       0       0       0\n",
       "4       1       0       0       0       0       0"
      ]
     },
     "execution_count": 6,
     "metadata": {},
     "output_type": "execute_result"
    }
   ],
   "source": [
    "targets.head()"
   ]
  },
  {
   "cell_type": "markdown",
   "metadata": {},
   "source": [
    "First we need to look at how often an outcome occurred when a pitch was thrown throughout the 2015-2017 MLB seasons."
   ]
  },
  {
   "cell_type": "code",
   "execution_count": 7,
   "metadata": {},
   "outputs": [
    {
     "name": "stdout",
     "output_type": "stream",
     "text": [
      "2129403 pitches from the 2015-2017 seasons are being analyzed.\n"
     ]
    },
    {
     "data": {
      "text/plain": [
       "call_B    0.360146\n",
       "call_C    0.168416\n",
       "call_F    0.173895\n",
       "call_H    0.064159\n",
       "call_S    0.114559\n",
       "is_out    0.173634\n",
       "dtype: float64"
      ]
     },
     "execution_count": 7,
     "metadata": {},
     "output_type": "execute_result"
    }
   ],
   "source": [
    "# Print percentage of pitches produced which outcomes\n",
    "print(\"%i pitches from the 2015-2017 seasons are being analyzed.\" % len(targets))\n",
    "targets.mean()"
   ]
  },
  {
   "cell_type": "markdown",
   "metadata": {},
   "source": [
    "Note that the percentage of outcomes are near each other with ``call_B``, balls, and ``call_H``, hits, being the biggest disparity. It's also worth mentioning that the percentages add up to more than 1 and that's due to the ``is_out`` column. There are a number of ways a batter could be out, one of which would be to strikeout which would result in ``call_C``, or ``call_S``, being ``1``as well as ``is_out``. This leads to double counting which isn't a bad thing because I want the model to learn that getting 3 strikes is an out."
   ]
  },
  {
   "cell_type": "markdown",
   "metadata": {},
   "source": [
    "### Pitch Type & Location\n",
    "\n",
    "When looking at the data, it's obvious that the different pitch types and locations are broken down into dummy variables. Although this will be useful when modeling the data, it proves a problem when doing exploratory data analysis so the first thing to do is to switch them back into categorical columns."
   ]
  },
  {
   "cell_type": "code",
   "execution_count": 8,
   "metadata": {},
   "outputs": [],
   "source": [
    "# Separate pitch types and pitch locations\n",
    "pitch_types_dummies = df.filter(regex=\"pitch_type_*\")"
   ]
  },
  {
   "cell_type": "code",
   "execution_count": 9,
   "metadata": {
    "scrolled": true
   },
   "outputs": [
    {
     "data": {
      "text/html": [
       "<div>\n",
       "<style scoped>\n",
       "    .dataframe tbody tr th:only-of-type {\n",
       "        vertical-align: middle;\n",
       "    }\n",
       "\n",
       "    .dataframe tbody tr th {\n",
       "        vertical-align: top;\n",
       "    }\n",
       "\n",
       "    .dataframe thead th {\n",
       "        text-align: right;\n",
       "    }\n",
       "</style>\n",
       "<table border=\"1\" class=\"dataframe\">\n",
       "  <thead>\n",
       "    <tr style=\"text-align: right;\">\n",
       "      <th></th>\n",
       "      <th>pitch_type</th>\n",
       "      <th>pitch_type_Changeup</th>\n",
       "      <th>pitch_type_Curveball</th>\n",
       "      <th>pitch_type_Cutter</th>\n",
       "      <th>pitch_type_Eephus</th>\n",
       "      <th>pitch_type_Fastball</th>\n",
       "      <th>pitch_type_Forkball</th>\n",
       "      <th>pitch_type_Four-Seam Fastball</th>\n",
       "      <th>pitch_type_Int. Ball</th>\n",
       "      <th>pitch_type_Knuckle Curve</th>\n",
       "      <th>pitch_type_Knuckleball</th>\n",
       "      <th>pitch_type_Pitchout</th>\n",
       "      <th>pitch_type_Screwball</th>\n",
       "      <th>pitch_type_Sinker</th>\n",
       "      <th>pitch_type_Slider</th>\n",
       "      <th>pitch_type_Splitter</th>\n",
       "      <th>pitch_type_Two-Seam Fastball</th>\n",
       "      <th>pitch_type_Unknown</th>\n",
       "    </tr>\n",
       "  </thead>\n",
       "  <tbody>\n",
       "    <tr>\n",
       "      <th>0</th>\n",
       "      <td>FF</td>\n",
       "      <td>0</td>\n",
       "      <td>0</td>\n",
       "      <td>0</td>\n",
       "      <td>0</td>\n",
       "      <td>0</td>\n",
       "      <td>0</td>\n",
       "      <td>1</td>\n",
       "      <td>0</td>\n",
       "      <td>0</td>\n",
       "      <td>0</td>\n",
       "      <td>0</td>\n",
       "      <td>0</td>\n",
       "      <td>0</td>\n",
       "      <td>0</td>\n",
       "      <td>0</td>\n",
       "      <td>0</td>\n",
       "      <td>0</td>\n",
       "    </tr>\n",
       "    <tr>\n",
       "      <th>1</th>\n",
       "      <td>FF</td>\n",
       "      <td>0</td>\n",
       "      <td>0</td>\n",
       "      <td>0</td>\n",
       "      <td>0</td>\n",
       "      <td>0</td>\n",
       "      <td>0</td>\n",
       "      <td>1</td>\n",
       "      <td>0</td>\n",
       "      <td>0</td>\n",
       "      <td>0</td>\n",
       "      <td>0</td>\n",
       "      <td>0</td>\n",
       "      <td>0</td>\n",
       "      <td>0</td>\n",
       "      <td>0</td>\n",
       "      <td>0</td>\n",
       "      <td>0</td>\n",
       "    </tr>\n",
       "    <tr>\n",
       "      <th>2</th>\n",
       "      <td>FF</td>\n",
       "      <td>0</td>\n",
       "      <td>0</td>\n",
       "      <td>0</td>\n",
       "      <td>0</td>\n",
       "      <td>0</td>\n",
       "      <td>0</td>\n",
       "      <td>1</td>\n",
       "      <td>0</td>\n",
       "      <td>0</td>\n",
       "      <td>0</td>\n",
       "      <td>0</td>\n",
       "      <td>0</td>\n",
       "      <td>0</td>\n",
       "      <td>0</td>\n",
       "      <td>0</td>\n",
       "      <td>0</td>\n",
       "      <td>0</td>\n",
       "    </tr>\n",
       "    <tr>\n",
       "      <th>3</th>\n",
       "      <td>FF</td>\n",
       "      <td>0</td>\n",
       "      <td>0</td>\n",
       "      <td>0</td>\n",
       "      <td>0</td>\n",
       "      <td>0</td>\n",
       "      <td>0</td>\n",
       "      <td>1</td>\n",
       "      <td>0</td>\n",
       "      <td>0</td>\n",
       "      <td>0</td>\n",
       "      <td>0</td>\n",
       "      <td>0</td>\n",
       "      <td>0</td>\n",
       "      <td>0</td>\n",
       "      <td>0</td>\n",
       "      <td>0</td>\n",
       "      <td>0</td>\n",
       "    </tr>\n",
       "    <tr>\n",
       "      <th>4</th>\n",
       "      <td>CU</td>\n",
       "      <td>0</td>\n",
       "      <td>1</td>\n",
       "      <td>0</td>\n",
       "      <td>0</td>\n",
       "      <td>0</td>\n",
       "      <td>0</td>\n",
       "      <td>0</td>\n",
       "      <td>0</td>\n",
       "      <td>0</td>\n",
       "      <td>0</td>\n",
       "      <td>0</td>\n",
       "      <td>0</td>\n",
       "      <td>0</td>\n",
       "      <td>0</td>\n",
       "      <td>0</td>\n",
       "      <td>0</td>\n",
       "      <td>0</td>\n",
       "    </tr>\n",
       "  </tbody>\n",
       "</table>\n",
       "</div>"
      ],
      "text/plain": [
       "  pitch_type  pitch_type_Changeup  pitch_type_Curveball  pitch_type_Cutter  \\\n",
       "0         FF                    0                     0                  0   \n",
       "1         FF                    0                     0                  0   \n",
       "2         FF                    0                     0                  0   \n",
       "3         FF                    0                     0                  0   \n",
       "4         CU                    0                     1                  0   \n",
       "\n",
       "   pitch_type_Eephus  pitch_type_Fastball  pitch_type_Forkball  \\\n",
       "0                  0                    0                    0   \n",
       "1                  0                    0                    0   \n",
       "2                  0                    0                    0   \n",
       "3                  0                    0                    0   \n",
       "4                  0                    0                    0   \n",
       "\n",
       "   pitch_type_Four-Seam Fastball  pitch_type_Int. Ball  \\\n",
       "0                              1                     0   \n",
       "1                              1                     0   \n",
       "2                              1                     0   \n",
       "3                              1                     0   \n",
       "4                              0                     0   \n",
       "\n",
       "   pitch_type_Knuckle Curve  pitch_type_Knuckleball  pitch_type_Pitchout  \\\n",
       "0                         0                       0                    0   \n",
       "1                         0                       0                    0   \n",
       "2                         0                       0                    0   \n",
       "3                         0                       0                    0   \n",
       "4                         0                       0                    0   \n",
       "\n",
       "   pitch_type_Screwball  pitch_type_Sinker  pitch_type_Slider  \\\n",
       "0                     0                  0                  0   \n",
       "1                     0                  0                  0   \n",
       "2                     0                  0                  0   \n",
       "3                     0                  0                  0   \n",
       "4                     0                  0                  0   \n",
       "\n",
       "   pitch_type_Splitter  pitch_type_Two-Seam Fastball  pitch_type_Unknown  \n",
       "0                    0                             0                   0  \n",
       "1                    0                             0                   0  \n",
       "2                    0                             0                   0  \n",
       "3                    0                             0                   0  \n",
       "4                    0                             0                   0  "
      ]
     },
     "execution_count": 9,
     "metadata": {},
     "output_type": "execute_result"
    }
   ],
   "source": [
    "pitch_types_dummies.head()"
   ]
  },
  {
   "cell_type": "code",
   "execution_count": 10,
   "metadata": {},
   "outputs": [],
   "source": [
    "# Use stack to collapse the columns into 1\n",
    "pitch_types = pitch_types_dummies[pitch_types_dummies==1].stack().reset_index().drop(['level_0', 0], 1)"
   ]
  },
  {
   "cell_type": "code",
   "execution_count": 11,
   "metadata": {},
   "outputs": [
    {
     "data": {
      "text/html": [
       "<div>\n",
       "<style scoped>\n",
       "    .dataframe tbody tr th:only-of-type {\n",
       "        vertical-align: middle;\n",
       "    }\n",
       "\n",
       "    .dataframe tbody tr th {\n",
       "        vertical-align: top;\n",
       "    }\n",
       "\n",
       "    .dataframe thead th {\n",
       "        text-align: right;\n",
       "    }\n",
       "</style>\n",
       "<table border=\"1\" class=\"dataframe\">\n",
       "  <thead>\n",
       "    <tr style=\"text-align: right;\">\n",
       "      <th></th>\n",
       "      <th>pitch_type</th>\n",
       "    </tr>\n",
       "  </thead>\n",
       "  <tbody>\n",
       "    <tr>\n",
       "      <th>0</th>\n",
       "      <td>pitch_type_Four-Seam Fastball</td>\n",
       "    </tr>\n",
       "    <tr>\n",
       "      <th>1</th>\n",
       "      <td>pitch_type_Four-Seam Fastball</td>\n",
       "    </tr>\n",
       "    <tr>\n",
       "      <th>2</th>\n",
       "      <td>pitch_type_Four-Seam Fastball</td>\n",
       "    </tr>\n",
       "    <tr>\n",
       "      <th>3</th>\n",
       "      <td>pitch_type_Four-Seam Fastball</td>\n",
       "    </tr>\n",
       "    <tr>\n",
       "      <th>4</th>\n",
       "      <td>pitch_type_Curveball</td>\n",
       "    </tr>\n",
       "  </tbody>\n",
       "</table>\n",
       "</div>"
      ],
      "text/plain": [
       "                      pitch_type\n",
       "0  pitch_type_Four-Seam Fastball\n",
       "1  pitch_type_Four-Seam Fastball\n",
       "2  pitch_type_Four-Seam Fastball\n",
       "3  pitch_type_Four-Seam Fastball\n",
       "4           pitch_type_Curveball"
      ]
     },
     "execution_count": 11,
     "metadata": {},
     "output_type": "execute_result"
    }
   ],
   "source": [
    "pitch_types.columns = ['pitch_type']\n",
    "pitch_types.head()"
   ]
  },
  {
   "cell_type": "code",
   "execution_count": 12,
   "metadata": {},
   "outputs": [],
   "source": [
    "# Set strikezone divisions\n",
    "# Consider importing these from Data_Wrangling in the future\n",
    "sz_top = 3.406\n",
    "sz_bot = 1.321\n",
    "sz_right = -1.181\n",
    "sz_left = 1.133\n",
    "sz_top_third = 2.711\n",
    "sz_bot_third = 2.016\n",
    "sz_right_third = -0.410\n",
    "sz_left_third = 0.362"
   ]
  },
  {
   "cell_type": "code",
   "execution_count": 13,
   "metadata": {},
   "outputs": [],
   "source": [
    "df.loc[df['pitch_locx'] < sz_right, 'loc_x'] = 'ballX_right'\n",
    "df.loc[(df['pitch_locx'] > sz_right) & (df['pitch_locx'] < sz_right_third), 'loc_x'] = 'strikeX_right'\n",
    "df.loc[(df['pitch_locx'] > sz_right_third) & (df['pitch_locx'] < sz_left_third), 'loc_x'] = 'strikeX_mid'\n",
    "df.loc[(df['pitch_locx'] > sz_left_third) & (df['pitch_locx'] < sz_left), 'loc_x'] = 'strikeX_left'\n",
    "df.loc[(df['pitch_locx'] > sz_left), 'loc_x']= 'ballX_left'"
   ]
  },
  {
   "cell_type": "code",
   "execution_count": 14,
   "metadata": {},
   "outputs": [],
   "source": [
    "df.loc[df['pitch_locy'] < sz_bot, 'loc_y'] = 'ballY_bot'\n",
    "df.loc[(df['pitch_locy'] > sz_bot) & (df['pitch_locy'] < sz_bot_third), 'loc_y'] = 'strikeY_bot'\n",
    "df.loc[(df['pitch_locy'] > sz_bot_third) & (df['pitch_locy'] < sz_top_third), 'loc_y'] = 'strikeY_mid'\n",
    "df.loc[(df['pitch_locy'] > sz_top_third) & (df['pitch_locy'] < sz_top), 'loc_y'] = 'strikeY_top'\n",
    "df.loc[(df['pitch_locy'] > sz_top), 'loc_y']= 'ballY_top'"
   ]
  },
  {
   "cell_type": "markdown",
   "metadata": {},
   "source": [
    "Now that the dummy variables have been condensed and pitch locations categorized, a new data frame can be created to do some exploratory data analysis."
   ]
  },
  {
   "cell_type": "code",
   "execution_count": 15,
   "metadata": {},
   "outputs": [],
   "source": [
    "# Filter out relevant columns to keep from df\n",
    "eda_df = df[['batSide_des', 'pitchHand_des', 'count_balls', 'count_strikes', 'inning_num', 'pitch_speed', 'loc_x', 'loc_y']]"
   ]
  },
  {
   "cell_type": "code",
   "execution_count": 16,
   "metadata": {},
   "outputs": [
    {
     "data": {
      "text/html": [
       "<div>\n",
       "<style scoped>\n",
       "    .dataframe tbody tr th:only-of-type {\n",
       "        vertical-align: middle;\n",
       "    }\n",
       "\n",
       "    .dataframe tbody tr th {\n",
       "        vertical-align: top;\n",
       "    }\n",
       "\n",
       "    .dataframe thead th {\n",
       "        text-align: right;\n",
       "    }\n",
       "</style>\n",
       "<table border=\"1\" class=\"dataframe\">\n",
       "  <thead>\n",
       "    <tr style=\"text-align: right;\">\n",
       "      <th></th>\n",
       "      <th>batSide_des</th>\n",
       "      <th>pitchHand_des</th>\n",
       "      <th>count_balls</th>\n",
       "      <th>count_strikes</th>\n",
       "      <th>inning_num</th>\n",
       "      <th>pitch_speed</th>\n",
       "      <th>loc_x</th>\n",
       "      <th>loc_y</th>\n",
       "      <th>pitch_type</th>\n",
       "      <th>call_B</th>\n",
       "      <th>call_C</th>\n",
       "      <th>call_F</th>\n",
       "      <th>call_H</th>\n",
       "      <th>call_S</th>\n",
       "      <th>is_out</th>\n",
       "    </tr>\n",
       "  </thead>\n",
       "  <tbody>\n",
       "    <tr>\n",
       "      <th>0</th>\n",
       "      <td>Left</td>\n",
       "      <td>Left</td>\n",
       "      <td>0</td>\n",
       "      <td>0</td>\n",
       "      <td>1</td>\n",
       "      <td>92.9</td>\n",
       "      <td>strikeX_left</td>\n",
       "      <td>strikeY_top</td>\n",
       "      <td>pitch_type_Four-Seam Fastball</td>\n",
       "      <td>0</td>\n",
       "      <td>1</td>\n",
       "      <td>0</td>\n",
       "      <td>0</td>\n",
       "      <td>0</td>\n",
       "      <td>0</td>\n",
       "    </tr>\n",
       "    <tr>\n",
       "      <th>1</th>\n",
       "      <td>Left</td>\n",
       "      <td>Left</td>\n",
       "      <td>0</td>\n",
       "      <td>1</td>\n",
       "      <td>1</td>\n",
       "      <td>92.8</td>\n",
       "      <td>strikeX_mid</td>\n",
       "      <td>strikeY_mid</td>\n",
       "      <td>pitch_type_Four-Seam Fastball</td>\n",
       "      <td>0</td>\n",
       "      <td>0</td>\n",
       "      <td>0</td>\n",
       "      <td>0</td>\n",
       "      <td>1</td>\n",
       "      <td>0</td>\n",
       "    </tr>\n",
       "    <tr>\n",
       "      <th>2</th>\n",
       "      <td>Left</td>\n",
       "      <td>Left</td>\n",
       "      <td>0</td>\n",
       "      <td>2</td>\n",
       "      <td>1</td>\n",
       "      <td>94.1</td>\n",
       "      <td>strikeX_right</td>\n",
       "      <td>strikeY_top</td>\n",
       "      <td>pitch_type_Four-Seam Fastball</td>\n",
       "      <td>0</td>\n",
       "      <td>0</td>\n",
       "      <td>1</td>\n",
       "      <td>0</td>\n",
       "      <td>0</td>\n",
       "      <td>0</td>\n",
       "    </tr>\n",
       "    <tr>\n",
       "      <th>3</th>\n",
       "      <td>Left</td>\n",
       "      <td>Left</td>\n",
       "      <td>0</td>\n",
       "      <td>2</td>\n",
       "      <td>1</td>\n",
       "      <td>91.0</td>\n",
       "      <td>strikeX_right</td>\n",
       "      <td>ballY_bot</td>\n",
       "      <td>pitch_type_Four-Seam Fastball</td>\n",
       "      <td>1</td>\n",
       "      <td>0</td>\n",
       "      <td>0</td>\n",
       "      <td>0</td>\n",
       "      <td>0</td>\n",
       "      <td>0</td>\n",
       "    </tr>\n",
       "    <tr>\n",
       "      <th>4</th>\n",
       "      <td>Left</td>\n",
       "      <td>Left</td>\n",
       "      <td>1</td>\n",
       "      <td>2</td>\n",
       "      <td>1</td>\n",
       "      <td>75.4</td>\n",
       "      <td>ballX_right</td>\n",
       "      <td>strikeY_mid</td>\n",
       "      <td>pitch_type_Curveball</td>\n",
       "      <td>1</td>\n",
       "      <td>0</td>\n",
       "      <td>0</td>\n",
       "      <td>0</td>\n",
       "      <td>0</td>\n",
       "      <td>0</td>\n",
       "    </tr>\n",
       "  </tbody>\n",
       "</table>\n",
       "</div>"
      ],
      "text/plain": [
       "  batSide_des pitchHand_des  count_balls  count_strikes  inning_num  \\\n",
       "0        Left          Left            0              0           1   \n",
       "1        Left          Left            0              1           1   \n",
       "2        Left          Left            0              2           1   \n",
       "3        Left          Left            0              2           1   \n",
       "4        Left          Left            1              2           1   \n",
       "\n",
       "   pitch_speed          loc_x        loc_y                     pitch_type  \\\n",
       "0         92.9   strikeX_left  strikeY_top  pitch_type_Four-Seam Fastball   \n",
       "1         92.8    strikeX_mid  strikeY_mid  pitch_type_Four-Seam Fastball   \n",
       "2         94.1  strikeX_right  strikeY_top  pitch_type_Four-Seam Fastball   \n",
       "3         91.0  strikeX_right    ballY_bot  pitch_type_Four-Seam Fastball   \n",
       "4         75.4    ballX_right  strikeY_mid           pitch_type_Curveball   \n",
       "\n",
       "   call_B  call_C  call_F  call_H  call_S  is_out  \n",
       "0       0       1       0       0       0       0  \n",
       "1       0       0       0       0       1       0  \n",
       "2       0       0       1       0       0       0  \n",
       "3       1       0       0       0       0       0  \n",
       "4       1       0       0       0       0       0  "
      ]
     },
     "execution_count": 16,
     "metadata": {},
     "output_type": "execute_result"
    }
   ],
   "source": [
    "# Join targets, pitch_types, pitch_locs\n",
    "eda_df = eda_df.join([pitch_types, targets])\n",
    "eda_df.head()"
   ]
  },
  {
   "cell_type": "markdown",
   "metadata": {},
   "source": [
    "## Outs vs. Hits\n",
    "\n",
    "This premise behind this project is to determine if there's a pattern to getting outs or not getting outs. Do high curveballs lead to more hits? Does the idiom \"hard stuff in, soft stuff away\" hold true? These are a couple of patterns to look into in this analysis. The function below takes in the data being used, which side the batter is hitting from, pitch type thrown and outcome of the pitch as parameters and returns the mean and count matrix of how often the pitches thrown at a specific location produced the outcome specified. It also displays heat maps as an indicator."
   ]
  },
  {
   "cell_type": "code",
   "execution_count": 17,
   "metadata": {},
   "outputs": [],
   "source": [
    "# Group outs by batSide, pitchHand, pitch_type, pitch_loc\n",
    "def heat_map(data, bat_side, pitch_type, call):\n",
    "    '''Plot and return number of a certain pitch is thrown to a certain batter by a certain pitcher given the outcome call.\n",
    "    Should plot two heat maps. The first is percent of outs in regards to the parameters. The second is total number of\n",
    "    pitches produced the outcome call.'''\n",
    "    pitch_cat = 'pitch_type_' + pitch_type\n",
    "    hm_df = data[(data['batSide_des'] == bat_side) & (data['pitch_type'] == pitch_cat)]\n",
    "    \n",
    "    # Pivot hm_df to take average of outcome call by location\n",
    "    hm_df_call = hm_df[['loc_x', 'loc_y', call]]\n",
    "    hm_pivot_mean = hm_df_call.pivot_table(index='loc_y', columns='loc_x', values=call, aggfunc='mean')\n",
    "    hm_pivot_mean = hm_pivot_mean.reindex(['ballX_right', 'strikeX_right', 'strikeX_mid', 'strikeX_left', 'ballX_left'], axis=1)\n",
    "    hm_pivot_mean = hm_pivot_mean.reindex(['ballY_top', 'strikeY_top', 'strikeY_mid', 'strikeY_bot', 'ballY_bot'], axis=0)\n",
    "    \n",
    "    # Pivot hm_df to take count of outcome call by location\n",
    "    hm_df_count = hm_df[hm_df[call] == 1]\n",
    "    hm_df_count = hm_df_count[['loc_x', 'loc_y', call]]\n",
    "    hm_pivot_count = hm_df_count.pivot_table(index='loc_y', columns='loc_x', values=call, aggfunc='count')\n",
    "    hm_pivot_count = hm_pivot_count.reindex(['ballX_right', 'strikeX_right', 'strikeX_mid', 'strikeX_left', 'ballX_left'], axis=1)\n",
    "    hm_pivot_count = hm_pivot_count.reindex(['ballY_top', 'strikeY_top', 'strikeY_mid', 'strikeY_bot', 'ballY_bot'], axis=0)\n",
    "    \n",
    "    # Plot heatmaps for both pivoted dataframes\n",
    "    _ = plt.figure(figsize=(8, 16))\n",
    "    _ = plt.subplot(2, 1, 1)\n",
    "    hm_pivot_mean_max = hm_pivot_mean.values.max()\n",
    "    hm_pivot_mean_min = hm_pivot_mean.values.min()\n",
    "    heatmap_mean_center = (hm_pivot_mean_max - hm_pivot_mean_min)/2\n",
    "    _ = sns.heatmap(hm_pivot_mean, cmap = 'coolwarm', center = heatmap_mean_center)\n",
    "    _ = plt.title('Percent %s by %s-Handed Batter from %s' %(call, bat_side, pitch_type))\n",
    "    \n",
    "    _ = plt.subplot(2, 1, 2)\n",
    "    hm_pivot_count_max = hm_pivot_count.values.max()\n",
    "    hm_pivot_count_min = hm_pivot_count.values.min()\n",
    "    heatmap_count_center = (hm_pivot_count_max - hm_pivot_count_min)/2\n",
    "    _ = sns.heatmap(hm_pivot_count, cmap = 'coolwarm', center = heatmap_count_center)\n",
    "    _ = plt.title('Number of %s by %s-Handed Batter from %s' %(call, bat_side, pitch_type))\n",
    "    _ = plt.tight_layout()\n",
    "    _ = plt.show()\n",
    "    \n",
    "    return hm_pivot_mean, hm_pivot_count"
   ]
  },
  {
   "cell_type": "markdown",
   "metadata": {},
   "source": [
    "Since the above function takes a ``pitch_type`` parameter, it'll be good to compare those statistics to the overall statistics disregarding pitch type. The below function is the same as the above but disregards ``pitch_type``. In the future, it might be beneficial to combine these two into one function."
   ]
  },
  {
   "cell_type": "code",
   "execution_count": 18,
   "metadata": {},
   "outputs": [],
   "source": [
    "# Group outs by batSide, pitchHand, pitch_loc. Disregard pitch_type\n",
    "def matchup_heatmap(data, bat_side, call):\n",
    "    '''Plot and return number of pitches thrown to a certain batter by a certain pitcher given the outcome call.\n",
    "    Should plot two heat maps. The first is percent of outs in regards to the parameters. The second is total number of\n",
    "    pitches produced the outcome call.'''\n",
    "    matchup_heatmap_df = data[data['batSide_des'] == bat_side]\n",
    "    \n",
    "    # Pivot hm_df to take average of outcome call by location\n",
    "    mu_hm_df_call = matchup_heatmap_df[['loc_x', 'loc_y', call]]\n",
    "    mu_hm_pivot_mean = mu_hm_df_call.pivot_table(index='loc_y', columns='loc_x', values=call, aggfunc='mean')\n",
    "    mu_hm_pivot_mean = mu_hm_pivot_mean.reindex(['ballX_right', 'strikeX_right', 'strikeX_mid', 'strikeX_left', 'ballX_left'], axis=1)\n",
    "    mu_hm_pivot_mean = mu_hm_pivot_mean.reindex(['ballY_top', 'strikeY_top', 'strikeY_mid', 'strikeY_bot', 'ballY_bot'], axis=0)\n",
    "    \n",
    "    # Pivot hm_df to take count of outcome call by location\n",
    "    mu_hm_df_count = matchup_heatmap_df[matchup_heatmap_df[call] == 1]\n",
    "    mu_hm_df_count = mu_hm_df_count[['loc_x', 'loc_y', call]]\n",
    "    mu_hm_pivot_count = mu_hm_df_count.pivot_table(index='loc_y', columns='loc_x', values=call, aggfunc='count')\n",
    "    mu_hm_pivot_count = mu_hm_pivot_count.reindex(['ballX_right', 'strikeX_right', 'strikeX_mid', 'strikeX_left', 'ballX_left'], axis=1)\n",
    "    mu_hm_pivot_count = mu_hm_pivot_count.reindex(['ballY_top', 'strikeY_top', 'strikeY_mid', 'strikeY_bot', 'ballY_bot'], axis=0)\n",
    "    \n",
    "    # Plot heatmaps for both pivoted dataframes\n",
    "    _ = plt.figure(figsize=(8, 16))\n",
    "    _ = plt.subplot(2, 1, 1)\n",
    "    mu_hm_pivot_mean_max = mu_hm_pivot_mean.values.max()\n",
    "    mu_hm_pivot_mean_min = mu_hm_pivot_mean.values.min()\n",
    "    mu_heatmap_mean_center = (mu_hm_pivot_mean_max - mu_hm_pivot_mean_min)/2\n",
    "    _ = sns.heatmap(mu_hm_pivot_mean, cmap = 'coolwarm', center = mu_heatmap_mean_center)\n",
    "    _ = plt.title('Percent %s Batters Producing %s' %(bat_side, call))\n",
    "    \n",
    "    _ = plt.subplot(2, 1, 2)\n",
    "    mu_hm_pivot_count_max = mu_hm_pivot_count.values.max()\n",
    "    mu_hm_pivot_count_min = mu_hm_pivot_count.values.min()\n",
    "    mu_heatmap_count_center = (mu_hm_pivot_count_max - mu_hm_pivot_count_min)/2\n",
    "    _ = sns.heatmap(mu_hm_pivot_count, cmap = 'coolwarm', center = mu_heatmap_count_center)\n",
    "    _ = plt.title('Number of %s Batters Producing %s' %(bat_side, call))\n",
    "    _ = plt.tight_layout()\n",
    "    _ = plt.show()\n",
    "    \n",
    "    return mu_hm_pivot_mean, mu_hm_pivot_count"
   ]
  },
  {
   "cell_type": "code",
   "execution_count": 19,
   "metadata": {},
   "outputs": [
    {
     "data": {
      "image/png": "[encoded data removed]",
      "text/plain": [
       "<Figure size 576x1152 with 4 Axes>"
      ]
     },
     "metadata": {
      "needs_background": "light"
     },
     "output_type": "display_data"
    }
   ],
   "source": [
    "all_right_mean, all_right_count = matchup_heatmap(eda_df, 'Right', 'is_out')"
   ]
  },
  {
   "cell_type": "code",
   "execution_count": 20,
   "metadata": {},
   "outputs": [
    {
     "data": {
      "image/png": "[encoded data removed]",
      "text/plain": [
       "<Figure size 576x1152 with 4 Axes>"
      ]
     },
     "metadata": {
      "needs_background": "light"
     },
     "output_type": "display_data"
    }
   ],
   "source": [
    "all_left_mean, all_left_count = matchup_heatmap(eda_df, 'Left', 'is_out')"
   ]
  },
  {
   "cell_type": "markdown",
   "metadata": {},
   "source": [
    "Something to note is neither function takes into account for which hand the pitcher pitches from. In theory, that affects how batters percieve the ball and opposite side matchups benefits the batter. Again, it's something that could be added in future exploration.\n",
    "\n",
    "Now when it comes to comparing outcomes(``heat_map`` outputs) to the overall count and mean (``matchup_heatmap`` outputs), a simple t-test will be used to determine its significance. The function below will take parameters and output the p-value and test statistic and with an alpha of 5%, a conclusion could be made or hypothesized."
   ]
  },
  {
   "cell_type": "code",
   "execution_count": 33,
   "metadata": {},
   "outputs": [],
   "source": [
    "# Create a function to do t-testing\n",
    "def t_testing(eda_data, bat_side, pitch_type, call, locx_zone, locy_zone, alpha = 0.05):\n",
    "    pitch_cat = 'pitch_type_' + pitch_type\n",
    "    all_pitches_by_call = eda_data[(eda_data['loc_x'] == locx_zone) & (eda_data['loc_y'] == locy_zone)][call]\n",
    "    testing_series = eda_data[(eda_data['loc_x'] == locx_zone) & (eda_data['loc_y'] == locy_zone) & (eda_data['pitch_type'] == pitch_cat)][call]\n",
    "    t_stat, p_val = stats.ttest_ind(all_pitches_by_call, testing_series, equal_var = False)\n",
    "    if p_val > alpha:\n",
    "        print(\"There's no statistical significance for getting %s against %s-handed batters by throwing a %s at %s and %s\" %(call, bat_side, pitch_type, locx_zone, locy_zone))\n",
    "        print(\"Test statistic: %f. P-value: %f\" %(t_stat, p_val))\n",
    "    else:\n",
    "        print(\"There's a statistical significance for getting %s against %s-handed batters by throwing a %s at %s and %s\" %(call, bat_side, pitch_type, locx_zone, locy_zone))\n",
    "        print(\"Test statistic: %f. P-value: %f\" %(t_stat, p_val))"
   ]
  },
  {
   "cell_type": "markdown",
   "metadata": {},
   "source": [
    "### Hard Stuff In\n",
    "\n",
    "The phrase \"Hard stuff in, soft stuff away\" is used to describe how you should pitch to most batters. It's said that it disrupts the batters rhythm and creates deception of the pitches thrown. \"Hard stuff\" typically pertains to fast, harder thrown pitches like cutters, four-seam fastballs, two-seam fastballs, and in rare cases, the sinker and sliders."
   ]
  },
  {
   "cell_type": "code",
   "execution_count": 28,
   "metadata": {
    "scrolled": false
   },
   "outputs": [
    {
     "data": {
      "image/png": "[encoded data removed]",
      "text/plain": [
       "<Figure size 576x1152 with 4 Axes>"
      ]
     },
     "metadata": {
      "needs_background": "light"
     },
     "output_type": "display_data"
    }
   ],
   "source": [
    "fsf_right_outs_mean, fsf_right_outs_count = heat_map(eda_df,\n",
    "                                                     bat_side = 'Right',\n",
    "                                                     pitch_type = 'Four-Seam Fastball',\n",
    "                                                     call='is_out')"
   ]
  },
  {
   "cell_type": "code",
   "execution_count": 34,
   "metadata": {},
   "outputs": [
    {
     "name": "stdout",
     "output_type": "stream",
     "text": [
      "There's a statistical significance for getting is_out against Right-handed batters by throwing a Four-Seam Fastball at strikeX_right and strikeY_mid\n",
      "Test statistic: 10.698985. P-value: 0.000000\n"
     ]
    }
   ],
   "source": [
    "t_testing(eda_df, 'Right', 'Four-Seam Fastball', call = 'is_out', locx_zone = 'strikeX_right', locy_zone = 'strikeY_mid')"
   ]
  },
  {
   "cell_type": "code",
   "execution_count": null,
   "metadata": {},
   "outputs": [],
   "source": [
    "fsf_left_outs_mean, fsf_left_outs_count = heat_map(eda_df,\n",
    "                                                  'Left',\n",
    "                                                  'Four-Seam Fastball',\n",
    "                                                  'is_out')"
   ]
  },
  {
   "cell_type": "code",
   "execution_count": null,
   "metadata": {},
   "outputs": [],
   "source": [
    "tsf_outs_mean, tsf_outs_count = heat_map(eda_df, 'Right', 'Two-Seam Fastball', 'is_out')"
   ]
  },
  {
   "cell_type": "code",
   "execution_count": null,
   "metadata": {},
   "outputs": [],
   "source": [
    "tsf_left_outs_mean, tsf_left_outs_count = heat_map(eda_df,\n",
    "                                                  'Left',\n",
    "                                                   'Two-Seam Fastball',\n",
    "                                                  'is_out',)"
   ]
  },
  {
   "cell_type": "code",
   "execution_count": null,
   "metadata": {},
   "outputs": [],
   "source": []
  },
  {
   "cell_type": "code",
   "execution_count": null,
   "metadata": {},
   "outputs": [],
   "source": []
  },
  {
   "cell_type": "code",
   "execution_count": null,
   "metadata": {},
   "outputs": [],
   "source": []
  },
  {
   "cell_type": "markdown",
   "metadata": {},
   "source": [
    "###  Soft Stuff Away"
   ]
  },
  {
   "cell_type": "code",
   "execution_count": null,
   "metadata": {},
   "outputs": [],
   "source": [
    "cu_outs_mean, cu_outs_count = heat_map(eda_df, 'Right', 'Curveball', 'is_out')"
   ]
  },
  {
   "cell_type": "code",
   "execution_count": null,
   "metadata": {},
   "outputs": [],
   "source": []
  },
  {
   "cell_type": "code",
   "execution_count": null,
   "metadata": {},
   "outputs": [],
   "source": []
  },
  {
   "cell_type": "code",
   "execution_count": null,
   "metadata": {},
   "outputs": [],
   "source": []
  },
  {
   "cell_type": "code",
   "execution_count": null,
   "metadata": {},
   "outputs": [],
   "source": []
  },
  {
   "cell_type": "code",
   "execution_count": null,
   "metadata": {},
   "outputs": [],
   "source": []
  },
  {
   "cell_type": "code",
   "execution_count": null,
   "metadata": {},
   "outputs": [],
   "source": []
  },
  {
   "cell_type": "code",
   "execution_count": null,
   "metadata": {},
   "outputs": [],
   "source": []
  },
  {
   "cell_type": "code",
   "execution_count": null,
   "metadata": {},
   "outputs": [],
   "source": []
  }
 ],
 "metadata": {
  "kernelspec": {
   "display_name": "Python 3",
   "language": "python",
   "name": "python3"
  },
  "language_info": {
   "codemirror_mode": {
    "name": "ipython",
    "version": 3
   },
   "file_extension": ".py",
   "mimetype": "text/x-python",
   "name": "python",
   "nbconvert_exporter": "python",
   "pygments_lexer": "ipython3",
   "version": "3.6.6"
  }
 },
 "nbformat": 4,
 "nbformat_minor": 2
}
