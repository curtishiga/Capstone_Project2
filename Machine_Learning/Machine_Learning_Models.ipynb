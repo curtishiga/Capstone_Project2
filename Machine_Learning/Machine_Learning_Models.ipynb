{
 "cells": [
  {
   "cell_type": "code",
   "execution_count": 9,
   "metadata": {},
   "outputs": [],
   "source": [
    "import pandas as pd\n",
    "import numpy as np\n",
    "import matplotlib.pyplot as plt\n",
    "from tensorflow import set_random_seed\n",
    "import os\n",
    "\n",
    "np.random.seed(123)\n",
    "set_random_seed(1234)\n",
    "\n",
    "from sklearn.preprocessing import StandardScaler\n",
    "from sklearn.model_selection import train_test_split\n",
    "from sklearn.metrics import confusion_matrix, roc_curve, roc_auc_score, classification_report\n",
    "\n",
    "from keras.layers import Dense, Dropout\n",
    "from keras.models import Sequential\n",
    "from keras.callbacks import EarlyStopping\n",
    "from keras.utils import to_categorical\n",
    "\n",
    "import tensorflow as tf\n",
    "from tensorflow import keras"
   ]
  },
  {
   "cell_type": "code",
   "execution_count": 2,
   "metadata": {},
   "outputs": [],
   "source": [
    "# Import 'all_pitches.csv'\n",
    "all_pitches = pd.read_csv('../Data/all_pitches.csv')"
   ]
  },
  {
   "cell_type": "code",
   "execution_count": 3,
   "metadata": {},
   "outputs": [
    {
     "data": {
      "text/html": [
       "<div>\n",
       "<style scoped>\n",
       "    .dataframe tbody tr th:only-of-type {\n",
       "        vertical-align: middle;\n",
       "    }\n",
       "\n",
       "    .dataframe tbody tr th {\n",
       "        vertical-align: top;\n",
       "    }\n",
       "\n",
       "    .dataframe thead th {\n",
       "        text-align: right;\n",
       "    }\n",
       "</style>\n",
       "<table border=\"1\" class=\"dataframe\">\n",
       "  <thead>\n",
       "    <tr style=\"text-align: right;\">\n",
       "      <th></th>\n",
       "      <th>game_id</th>\n",
       "      <th>batSide_code</th>\n",
       "      <th>batSide_des</th>\n",
       "      <th>batter</th>\n",
       "      <th>batter_id</th>\n",
       "      <th>call_des</th>\n",
       "      <th>inning_top_bot</th>\n",
       "      <th>pitchHand_code</th>\n",
       "      <th>pitchHand_des</th>\n",
       "      <th>pitch_type</th>\n",
       "      <th>...</th>\n",
       "      <th>strike_left</th>\n",
       "      <th>strike_down_right</th>\n",
       "      <th>strike_down</th>\n",
       "      <th>strike_down_left</th>\n",
       "      <th>call_B</th>\n",
       "      <th>call_C</th>\n",
       "      <th>call_F</th>\n",
       "      <th>call_H</th>\n",
       "      <th>call_S</th>\n",
       "      <th>is_out</th>\n",
       "    </tr>\n",
       "  </thead>\n",
       "  <tbody>\n",
       "    <tr>\n",
       "      <th>0</th>\n",
       "      <td>413661</td>\n",
       "      <td>L</td>\n",
       "      <td>Left</td>\n",
       "      <td>Matt Carpenter</td>\n",
       "      <td>572761</td>\n",
       "      <td>Called Strike</td>\n",
       "      <td>top</td>\n",
       "      <td>L</td>\n",
       "      <td>Left</td>\n",
       "      <td>FF</td>\n",
       "      <td>...</td>\n",
       "      <td>0</td>\n",
       "      <td>0</td>\n",
       "      <td>0</td>\n",
       "      <td>0</td>\n",
       "      <td>0</td>\n",
       "      <td>1</td>\n",
       "      <td>0</td>\n",
       "      <td>0</td>\n",
       "      <td>0</td>\n",
       "      <td>0</td>\n",
       "    </tr>\n",
       "    <tr>\n",
       "      <th>1</th>\n",
       "      <td>413661</td>\n",
       "      <td>L</td>\n",
       "      <td>Left</td>\n",
       "      <td>Matt Carpenter</td>\n",
       "      <td>572761</td>\n",
       "      <td>Swinging Strike</td>\n",
       "      <td>top</td>\n",
       "      <td>L</td>\n",
       "      <td>Left</td>\n",
       "      <td>FF</td>\n",
       "      <td>...</td>\n",
       "      <td>0</td>\n",
       "      <td>0</td>\n",
       "      <td>0</td>\n",
       "      <td>0</td>\n",
       "      <td>0</td>\n",
       "      <td>0</td>\n",
       "      <td>0</td>\n",
       "      <td>0</td>\n",
       "      <td>1</td>\n",
       "      <td>0</td>\n",
       "    </tr>\n",
       "    <tr>\n",
       "      <th>2</th>\n",
       "      <td>413661</td>\n",
       "      <td>L</td>\n",
       "      <td>Left</td>\n",
       "      <td>Matt Carpenter</td>\n",
       "      <td>572761</td>\n",
       "      <td>Foul</td>\n",
       "      <td>top</td>\n",
       "      <td>L</td>\n",
       "      <td>Left</td>\n",
       "      <td>FF</td>\n",
       "      <td>...</td>\n",
       "      <td>0</td>\n",
       "      <td>0</td>\n",
       "      <td>0</td>\n",
       "      <td>0</td>\n",
       "      <td>0</td>\n",
       "      <td>0</td>\n",
       "      <td>1</td>\n",
       "      <td>0</td>\n",
       "      <td>0</td>\n",
       "      <td>0</td>\n",
       "    </tr>\n",
       "    <tr>\n",
       "      <th>3</th>\n",
       "      <td>413661</td>\n",
       "      <td>L</td>\n",
       "      <td>Left</td>\n",
       "      <td>Matt Carpenter</td>\n",
       "      <td>572761</td>\n",
       "      <td>Ball</td>\n",
       "      <td>top</td>\n",
       "      <td>L</td>\n",
       "      <td>Left</td>\n",
       "      <td>FF</td>\n",
       "      <td>...</td>\n",
       "      <td>0</td>\n",
       "      <td>0</td>\n",
       "      <td>0</td>\n",
       "      <td>0</td>\n",
       "      <td>1</td>\n",
       "      <td>0</td>\n",
       "      <td>0</td>\n",
       "      <td>0</td>\n",
       "      <td>0</td>\n",
       "      <td>0</td>\n",
       "    </tr>\n",
       "    <tr>\n",
       "      <th>4</th>\n",
       "      <td>413661</td>\n",
       "      <td>L</td>\n",
       "      <td>Left</td>\n",
       "      <td>Matt Carpenter</td>\n",
       "      <td>572761</td>\n",
       "      <td>Ball</td>\n",
       "      <td>top</td>\n",
       "      <td>L</td>\n",
       "      <td>Left</td>\n",
       "      <td>CU</td>\n",
       "      <td>...</td>\n",
       "      <td>0</td>\n",
       "      <td>0</td>\n",
       "      <td>0</td>\n",
       "      <td>0</td>\n",
       "      <td>1</td>\n",
       "      <td>0</td>\n",
       "      <td>0</td>\n",
       "      <td>0</td>\n",
       "      <td>0</td>\n",
       "      <td>0</td>\n",
       "    </tr>\n",
       "  </tbody>\n",
       "</table>\n",
       "<p>5 rows × 60 columns</p>\n",
       "</div>"
      ],
      "text/plain": [
       "   game_id batSide_code batSide_des          batter  batter_id  \\\n",
       "0   413661            L        Left  Matt Carpenter     572761   \n",
       "1   413661            L        Left  Matt Carpenter     572761   \n",
       "2   413661            L        Left  Matt Carpenter     572761   \n",
       "3   413661            L        Left  Matt Carpenter     572761   \n",
       "4   413661            L        Left  Matt Carpenter     572761   \n",
       "\n",
       "          call_des inning_top_bot pitchHand_code pitchHand_des pitch_type  \\\n",
       "0    Called Strike            top              L          Left         FF   \n",
       "1  Swinging Strike            top              L          Left         FF   \n",
       "2             Foul            top              L          Left         FF   \n",
       "3             Ball            top              L          Left         FF   \n",
       "4             Ball            top              L          Left         CU   \n",
       "\n",
       "    ...   strike_left  strike_down_right  strike_down  strike_down_left  \\\n",
       "0   ...             0                  0            0                 0   \n",
       "1   ...             0                  0            0                 0   \n",
       "2   ...             0                  0            0                 0   \n",
       "3   ...             0                  0            0                 0   \n",
       "4   ...             0                  0            0                 0   \n",
       "\n",
       "   call_B  call_C  call_F  call_H  call_S  is_out  \n",
       "0       0       1       0       0       0       0  \n",
       "1       0       0       0       0       1       0  \n",
       "2       0       0       1       0       0       0  \n",
       "3       1       0       0       0       0       0  \n",
       "4       1       0       0       0       0       0  \n",
       "\n",
       "[5 rows x 60 columns]"
      ]
     },
     "execution_count": 3,
     "metadata": {},
     "output_type": "execute_result"
    }
   ],
   "source": [
    "all_pitches.head()"
   ]
  },
  {
   "cell_type": "code",
   "execution_count": 4,
   "metadata": {},
   "outputs": [],
   "source": [
    "calls = all_pitches.loc[:,'call_B':'is_out']"
   ]
  },
  {
   "cell_type": "code",
   "execution_count": 5,
   "metadata": {},
   "outputs": [
    {
     "data": {
      "text/plain": [
       "call_B    0.360146\n",
       "call_C    0.168416\n",
       "call_F    0.173895\n",
       "call_H    0.064159\n",
       "call_S    0.114559\n",
       "is_out    0.173634\n",
       "dtype: float64"
      ]
     },
     "execution_count": 5,
     "metadata": {},
     "output_type": "execute_result"
    }
   ],
   "source": [
    "calls_pct = calls.mean()\n",
    "calls_pct"
   ]
  },
  {
   "cell_type": "markdown",
   "metadata": {},
   "source": [
    "## Simple Model"
   ]
  },
  {
   "cell_type": "code",
   "execution_count": 6,
   "metadata": {},
   "outputs": [],
   "source": [
    "# Extract predictors\n",
    "predictors = all_pitches.loc[:,'count_balls':'strike_down_left'].drop(['pitch_locx', 'pitch_locy'], axis=1)"
   ]
  },
  {
   "cell_type": "code",
   "execution_count": 7,
   "metadata": {},
   "outputs": [],
   "source": [
    "# Extract target variable\n",
    "targets = calls['is_out']"
   ]
  },
  {
   "cell_type": "code",
   "execution_count": 8,
   "metadata": {},
   "outputs": [],
   "source": [
    "# Split the data into train and test sets\n",
    "X_train, X_test, y_train, y_test = train_test_split(predictors,\n",
    "                                                    targets, \n",
    "                                                    test_size = 0.25, \n",
    "                                                    stratify = targets,\n",
    "                                                    random_state = 123)"
   ]
  },
  {
   "cell_type": "code",
   "execution_count": 13,
   "metadata": {},
   "outputs": [],
   "source": [
    "base_checkpoint_path = 'base_training/cp.ckpt'\n",
    "base_checkpoint_dir = os.path.dirname(base_checkpoint_path)\n",
    "\n",
    "# Create checkpoint callback\n",
    "base_cp_callback = tf.keras.callbacks.ModelCheckpoint(base_checkpoint_path,\n",
    "                                                    save_weights_only = True,\n",
    "                                                    verbose=1)"
   ]
  },
  {
   "cell_type": "code",
   "execution_count": 14,
   "metadata": {},
   "outputs": [],
   "source": [
    "# Instatiate a Sequential model\n",
    "model_base = Sequential()\n",
    "\n",
    "# Create a basic network\n",
    "model_base.add(Dense(40, activation = 'relu', input_shape = (X_train.shape[1],)))\n",
    "model_base.add(Dense(1, activation = 'sigmoid'))\n",
    "\n",
    "# Create a compiler\n",
    "model_base.compile(optimizer='adam', loss = 'binary_crossentropy', metrics=['accuracy'])"
   ]
  },
  {
   "cell_type": "code",
   "execution_count": 15,
   "metadata": {},
   "outputs": [],
   "source": [
    "# Set up early stopping monitor\n",
    "early_stopping_monitor = EarlyStopping(patience=3)"
   ]
  },
  {
   "cell_type": "code",
   "execution_count": 17,
   "metadata": {},
   "outputs": [
    {
     "name": "stdout",
     "output_type": "stream",
     "text": [
      "Train on 1197789 samples, validate on 399263 samples\n",
      "Epoch 1/20\n",
      "1197789/1197789 [==============================] - 37s 31us/step - loss: 0.3945 - acc: 0.8238 - val_loss: 0.3891 - val_acc: 0.8278\n",
      "\n",
      "Epoch 00001: saving model to base_training/cp.ckpt\n",
      "Epoch 2/20\n",
      "1197789/1197789 [==============================] - 36s 30us/step - loss: 0.3924 - acc: 0.8245 - val_loss: 0.3877 - val_acc: 0.8262\n",
      "\n",
      "Epoch 00002: saving model to base_training/cp.ckpt\n",
      "Epoch 3/20\n",
      "1197789/1197789 [==============================] - 35s 29us/step - loss: 0.3915 - acc: 0.8250 - val_loss: 0.3924 - val_acc: 0.8237\n",
      "\n",
      "Epoch 00003: saving model to base_training/cp.ckpt\n",
      "Epoch 4/20\n",
      "1197789/1197789 [==============================] - 38s 32us/step - loss: 0.3912 - acc: 0.8251 - val_loss: 0.3868 - val_acc: 0.8277\n",
      "\n",
      "Epoch 00004: saving model to base_training/cp.ckpt\n",
      "Epoch 5/20\n",
      "1197789/1197789 [==============================] - 37s 31us/step - loss: 0.3908 - acc: 0.8253 - val_loss: 0.3874 - val_acc: 0.8277\n",
      "\n",
      "Epoch 00005: saving model to base_training/cp.ckpt\n",
      "Epoch 6/20\n",
      "1197789/1197789 [==============================] - 38s 31us/step - loss: 0.3906 - acc: 0.8253 - val_loss: 0.3858 - val_acc: 0.8275\n",
      "\n",
      "Epoch 00006: saving model to base_training/cp.ckpt\n",
      "Epoch 7/20\n",
      "1197789/1197789 [==============================] - 37s 31us/step - loss: 0.3903 - acc: 0.8252 - val_loss: 0.3856 - val_acc: 0.8278\n",
      "\n",
      "Epoch 00007: saving model to base_training/cp.ckpt\n",
      "Epoch 8/20\n",
      "1197789/1197789 [==============================] - 39s 32us/step - loss: 0.3901 - acc: 0.8254 - val_loss: 0.3865 - val_acc: 0.8278\n",
      "\n",
      "Epoch 00008: saving model to base_training/cp.ckpt\n",
      "Epoch 9/20\n",
      "1197789/1197789 [==============================] - 47s 39us/step - loss: 0.3900 - acc: 0.8255 - val_loss: 0.3854 - val_acc: 0.8279\n",
      "\n",
      "Epoch 00009: saving model to base_training/cp.ckpt\n",
      "Epoch 10/20\n",
      "1197789/1197789 [==============================] - 39s 32us/step - loss: 0.3900 - acc: 0.8257 - val_loss: 0.3852 - val_acc: 0.8278\n",
      "\n",
      "Epoch 00010: saving model to base_training/cp.ckpt\n",
      "Epoch 11/20\n",
      "1197789/1197789 [==============================] - 38s 32us/step - loss: 0.3898 - acc: 0.8255 - val_loss: 0.3855 - val_acc: 0.8280\n",
      "\n",
      "Epoch 00011: saving model to base_training/cp.ckpt\n",
      "Epoch 12/20\n",
      "1197789/1197789 [==============================] - 39s 33us/step - loss: 0.3898 - acc: 0.8256 - val_loss: 0.3852 - val_acc: 0.8280\n",
      "\n",
      "Epoch 00012: saving model to base_training/cp.ckpt\n",
      "Epoch 13/20\n",
      "1197789/1197789 [==============================] - 40s 34us/step - loss: 0.3897 - acc: 0.8256 - val_loss: 0.3866 - val_acc: 0.8277\n",
      "\n",
      "Epoch 00013: saving model to base_training/cp.ckpt\n",
      "Epoch 14/20\n",
      "1197789/1197789 [==============================] - 42s 35us/step - loss: 0.3897 - acc: 0.8257 - val_loss: 0.3854 - val_acc: 0.8282\n",
      "\n",
      "Epoch 00014: saving model to base_training/cp.ckpt\n",
      "Epoch 15/20\n",
      "1197789/1197789 [==============================] - 42s 35us/step - loss: 0.3895 - acc: 0.8259 - val_loss: 0.3860 - val_acc: 0.8272\n",
      "\n",
      "Epoch 00015: saving model to base_training/cp.ckpt\n"
     ]
    },
    {
     "data": {
      "text/plain": [
       "<keras.callbacks.History at 0x1da8cbde5f8>"
      ]
     },
     "execution_count": 17,
     "metadata": {},
     "output_type": "execute_result"
    }
   ],
   "source": [
    "# fit the training data to the basic model\n",
    "model_base.fit(X_train,\n",
    "               y_train,\n",
    "               validation_split = 0.25,\n",
    "               epochs = 20,\n",
    "               callbacks = [early_stopping_monitor, base_cp_callback])"
   ]
  },
  {
   "cell_type": "code",
   "execution_count": 18,
   "metadata": {},
   "outputs": [
    {
     "name": "stdout",
     "output_type": "stream",
     "text": [
      "532351/532351 [==============================] - 6s 12us/step\n",
      "Test score: 0.3896250728908871\n",
      "Test accuracy: 0.824713393981086\n"
     ]
    }
   ],
   "source": [
    "# Make predictions on the test set\n",
    "score, acc = model_base.evaluate(X_test, y_test)\n",
    "print('Test score:', score)\n",
    "print('Test accuracy:', acc)"
   ]
  },
  {
   "cell_type": "code",
   "execution_count": 19,
   "metadata": {},
   "outputs": [
    {
     "data": {
      "text/plain": [
       "array([[424226,  15691],\n",
       "       [ 77623,  14811]], dtype=int64)"
      ]
     },
     "execution_count": 19,
     "metadata": {},
     "output_type": "execute_result"
    }
   ],
   "source": [
    "# Make predictions on the test data\n",
    "predictions = model_base.predict_classes(X_test)\n",
    "\n",
    "# Print the confusion matrix\n",
    "confusion_matrix(y_test, predictions)"
   ]
  },
  {
   "cell_type": "code",
   "execution_count": 20,
   "metadata": {},
   "outputs": [
    {
     "name": "stdout",
     "output_type": "stream",
     "text": [
      "0.5622825777854022\n"
     ]
    }
   ],
   "source": [
    "fpr, tpr, thresholds = roc_curve(y_test, predictions)\n",
    "\n",
    "print(roc_auc_score(y_test, predictions))"
   ]
  },
  {
   "cell_type": "markdown",
   "metadata": {},
   "source": [
    "This simple model was able to accurately predict outs roughly 82.64% of the time on the test set. That may seem like a promising result but if the model were to predict only no outs, it would perform the same. It's also worth noting the models true-positive rate is almost nonexistent."
   ]
  },
  {
   "cell_type": "markdown",
   "metadata": {},
   "source": [
    "### Increase Model Capacity"
   ]
  },
  {
   "cell_type": "code",
   "execution_count": null,
   "metadata": {},
   "outputs": [],
   "source": [
    "# Instatiate a Sequential model\n",
    "model_outs = Sequential()\n",
    "\n",
    "# Create a 3 layers\n",
    "model_outs.add(Dense(300, activation = 'relu', input_shape = (X_train.shape[1],)))\n",
    "model_outs.add(Dense(100, activation = 'relu'))\n",
    "model_outs.add(Dense(100, activation = 'relu'))\n",
    "model_outs.add(Dense(1, activation = 'sigmoid'))\n",
    "\n",
    "# Create a compiler\n",
    "model_outs.compile(optimizer='adam', loss = 'binary_crossentropy', metrics=['accuracy'])"
   ]
  },
  {
   "cell_type": "code",
   "execution_count": null,
   "metadata": {},
   "outputs": [],
   "source": [
    "# fit the training data to the basic model\n",
    "model_outs.fit(X_train,\n",
    "               y_train,\n",
    "               validation_split = 0.25,\n",
    "               epochs = 20,\n",
    "               callbacks = [early_stopping_monitor])"
   ]
  },
  {
   "cell_type": "code",
   "execution_count": null,
   "metadata": {},
   "outputs": [],
   "source": [
    "# Make predictions on the test set\n",
    "score, acc = model_outs.evaluate(X_test, y_test)\n",
    "print('Test score:', score)\n",
    "print('Test accuracy:', acc)"
   ]
  },
  {
   "cell_type": "code",
   "execution_count": null,
   "metadata": {},
   "outputs": [],
   "source": [
    "# Make predictions on the test data\n",
    "predictions = model_outs.predict_classes(X_test)\n",
    "\n",
    "# Print the confusion matrix\n",
    "confusion_matrix(y_test, predictions)"
   ]
  },
  {
   "cell_type": "markdown",
   "metadata": {},
   "source": [
    "Increasing the model capacity improved model performance. Not only is it more accurate the the baseline model, but it also has a much better true-positive rate.\n",
    "\n",
    "This model still needs improvement but next will be to add different predictors and target variables to the model to see how models improve."
   ]
  },
  {
   "cell_type": "code",
   "execution_count": null,
   "metadata": {},
   "outputs": [],
   "source": []
  },
  {
   "cell_type": "code",
   "execution_count": null,
   "metadata": {},
   "outputs": [],
   "source": []
  },
  {
   "cell_type": "markdown",
   "metadata": {},
   "source": [
    "## Calls, No Player ID's\n",
    "\n",
    "Predictors stay the same but target labels change."
   ]
  },
  {
   "cell_type": "code",
   "execution_count": null,
   "metadata": {},
   "outputs": [],
   "source": [
    "# Split the data into train and test sets\n",
    "X_call_train, X_call_test, y_call_train, y_call_test = train_test_split(predictors,\n",
    "                                                                        calls, \n",
    "                                                                        test_size = 0.25, \n",
    "                                                                        stratify = calls,\n",
    "                                                                        random_state = 123)"
   ]
  },
  {
   "cell_type": "code",
   "execution_count": null,
   "metadata": {},
   "outputs": [],
   "source": [
    "# Instatiate a Sequential model\n",
    "model_calls = Sequential()\n",
    "\n",
    "# Create a basic network\n",
    "model_calls.add(Dense(300, activation = 'relu', input_shape = (X_call_train.shape[1],)))\n",
    "model_calls.add(Dense(100, activation = 'relu'))\n",
    "model_calls.add(Dense(100, activation = 'relu'))\n",
    "model_calls.add(Dense(y_call_train.shape[1], activation = 'sigmoid'))\n",
    "\n",
    "# Create a compiler\n",
    "model_calls.compile(optimizer='adam', loss = 'binary_crossentropy', metrics=['categorical_accuracy'])"
   ]
  },
  {
   "cell_type": "code",
   "execution_count": null,
   "metadata": {
    "scrolled": false
   },
   "outputs": [],
   "source": [
    "# fit the training data to the basic model\n",
    "model_calls.fit(X_call_train,\n",
    "                y_call_train,\n",
    "                validation_split = 0.25,\n",
    "                epochs = 20,\n",
    "                callbacks = [early_stopping_monitor])"
   ]
  },
  {
   "cell_type": "code",
   "execution_count": null,
   "metadata": {},
   "outputs": [],
   "source": [
    "# Make predictions on the test set\n",
    "score, acc = model_calls.evaluate(X_call_test, y_call_test)\n",
    "print('Test score:', score)\n",
    "print('Test accuracy:', acc)"
   ]
  },
  {
   "cell_type": "code",
   "execution_count": null,
   "metadata": {},
   "outputs": [],
   "source": [
    "# Make predictions on the test data\n",
    "predictions = model_calls.predict(X_call_test)"
   ]
  },
  {
   "cell_type": "code",
   "execution_count": null,
   "metadata": {},
   "outputs": [],
   "source": [
    "matrix = confusion_matrix(y_call_test.values.argmax(axis=1), predictions.argmax(axis=1))\n",
    "matrix"
   ]
  },
  {
   "cell_type": "markdown",
   "metadata": {},
   "source": [
    "Looking at the confusion matrix, it appears the model wasn't able to pick up which pitches resulted in hits. More capacity may be needed"
   ]
  },
  {
   "cell_type": "markdown",
   "metadata": {},
   "source": [
    "## ``is_out``, Player ID's"
   ]
  },
  {
   "cell_type": "code",
   "execution_count": null,
   "metadata": {},
   "outputs": [],
   "source": [
    "# Extract predictors\n",
    "predictors_ids = predictors.drop(['pitchHand_isRight', 'batSide_isRight'], axis = 1).join(all_pitches.loc[:,['batter_id', 'pitcher_id']])"
   ]
  },
  {
   "cell_type": "code",
   "execution_count": null,
   "metadata": {},
   "outputs": [],
   "source": [
    "# Split the data into train and test sets\n",
    "X_id_train, X_id_test, y_id_train, y_id_test = train_test_split(predictors_ids,\n",
    "                                                                targets, \n",
    "                                                                test_size = 0.25, \n",
    "                                                                stratify = targets,\n",
    "                                                                random_state = 123)"
   ]
  },
  {
   "cell_type": "code",
   "execution_count": null,
   "metadata": {
    "scrolled": true
   },
   "outputs": [],
   "source": [
    "scaler = StandardScaler()\n",
    "\n",
    "X_id_train_scaled = scaler.fit_transform(X_id_train)"
   ]
  },
  {
   "cell_type": "code",
   "execution_count": null,
   "metadata": {
    "scrolled": false
   },
   "outputs": [],
   "source": [
    "X_id_test_scaled = scaler.transform(X_id_test)"
   ]
  },
  {
   "cell_type": "code",
   "execution_count": null,
   "metadata": {},
   "outputs": [],
   "source": [
    "# Instatiate a Sequential model\n",
    "model_ids = Sequential()\n",
    "\n",
    "# Create a 3 layers\n",
    "model_ids.add(Dense(300, activation = 'relu', input_shape = (X_id_train_scaled.shape[1],)))\n",
    "model_ids.add(Dense(100, activation = 'relu'))\n",
    "model_ids.add(Dense(1, activation = 'sigmoid'))\n",
    "\n",
    "# Create a compiler\n",
    "model_ids.compile(optimizer='adam', loss = 'binary_crossentropy', metrics=['accuracy'])"
   ]
  },
  {
   "cell_type": "code",
   "execution_count": null,
   "metadata": {},
   "outputs": [],
   "source": [
    "# fit the training data to the basic model\n",
    "model_ids.fit(X_id_train_scaled,\n",
    "              y_id_train,\n",
    "              validation_split = 0.25,\n",
    "              epochs = 20,\n",
    "              callbacks = [early_stopping_monitor])"
   ]
  },
  {
   "cell_type": "code",
   "execution_count": null,
   "metadata": {},
   "outputs": [],
   "source": [
    "# Make predictions on the test set\n",
    "score, acc = model_ids.evaluate(X_id_test_scaled, y_id_test)\n",
    "print('Test score:', score)\n",
    "print('Test accuracy:', acc)"
   ]
  },
  {
   "cell_type": "code",
   "execution_count": null,
   "metadata": {},
   "outputs": [],
   "source": [
    "# Make predictions on the test data\n",
    "predictions = model_ids.predict_classes(X_id_test_scaled)\n",
    "\n",
    "# Print the confusion matrix\n",
    "confusion_matrix(y_id_test, predictions)"
   ]
  },
  {
   "cell_type": "code",
   "execution_count": null,
   "metadata": {},
   "outputs": [],
   "source": []
  },
  {
   "cell_type": "markdown",
   "metadata": {},
   "source": [
    "## Calls, Player ID's"
   ]
  },
  {
   "cell_type": "code",
   "execution_count": null,
   "metadata": {},
   "outputs": [],
   "source": [
    "# Split the data into train and test sets\n",
    "X_callid_train, X_callid_test, y_callid_train, y_callid_test = train_test_split(predictors_ids,\n",
    "                                                                                calls, \n",
    "                                                                                test_size = 0.25, \n",
    "                                                                                stratify = calls,\n",
    "                                                                                random_state = 123)"
   ]
  },
  {
   "cell_type": "code",
   "execution_count": null,
   "metadata": {
    "scrolled": true
   },
   "outputs": [],
   "source": [
    "scaler_calls = StandardScaler()\n",
    "\n",
    "X_callid_train_scaled = scaler_calls.fit_transform(X_callid_train)"
   ]
  },
  {
   "cell_type": "code",
   "execution_count": null,
   "metadata": {
    "scrolled": false
   },
   "outputs": [],
   "source": [
    "X_callid_test_scaled = scaler_calls.transform(X_callid_test)"
   ]
  },
  {
   "cell_type": "code",
   "execution_count": null,
   "metadata": {},
   "outputs": [],
   "source": [
    "# Instatiate a Sequential model\n",
    "model_calls_id = Sequential()\n",
    "\n",
    "# Create a basic network\n",
    "model_calls_id.add(Dense(300, activation = 'relu', input_shape = (X_callid_train_scaled.shape[1],)))\n",
    "model_calls_id.add(Dense(100, activation = 'relu'))\n",
    "model_calls_id.add(Dense(100, activation = 'relu'))\n",
    "model_calls_id.add(Dense(y_callid_train.shape[1], activation = 'sigmoid'))\n",
    "\n",
    "# Create a compiler\n",
    "model_calls_id.compile(optimizer='adam', loss = 'binary_crossentropy', metrics=['categorical_accuracy'])"
   ]
  },
  {
   "cell_type": "code",
   "execution_count": null,
   "metadata": {
    "scrolled": false
   },
   "outputs": [],
   "source": [
    "# fit the training data to the basic model\n",
    "model_calls_id.fit(X_callid_train_scaled,\n",
    "                   y_callid_train,\n",
    "                   validation_split = 0.25,\n",
    "                   epochs = 20,\n",
    "                   callbacks = [early_stopping_monitor])"
   ]
  },
  {
   "cell_type": "code",
   "execution_count": null,
   "metadata": {},
   "outputs": [],
   "source": [
    "# Make predictions on the test set\n",
    "score, acc = model_calls.evaluate(X_callid_test_scaled, y_callid_test)\n",
    "print('Test score:', score)\n",
    "print('Test accuracy:', acc)"
   ]
  },
  {
   "cell_type": "code",
   "execution_count": null,
   "metadata": {},
   "outputs": [],
   "source": [
    "# Make predictions on the test data\n",
    "predictions = model_calls.predict(X_callid_test_scaled)"
   ]
  },
  {
   "cell_type": "code",
   "execution_count": null,
   "metadata": {},
   "outputs": [],
   "source": [
    "matrix = confusion_matrix(y_callid_test.values.argmax(axis=1), predictions.argmax(axis=1))\n",
    "matrix"
   ]
  },
  {
   "cell_type": "code",
   "execution_count": null,
   "metadata": {},
   "outputs": [],
   "source": []
  },
  {
   "cell_type": "code",
   "execution_count": null,
   "metadata": {},
   "outputs": [],
   "source": []
  },
  {
   "cell_type": "code",
   "execution_count": null,
   "metadata": {},
   "outputs": [],
   "source": []
  },
  {
   "cell_type": "code",
   "execution_count": null,
   "metadata": {},
   "outputs": [],
   "source": []
  },
  {
   "cell_type": "code",
   "execution_count": null,
   "metadata": {},
   "outputs": [],
   "source": []
  },
  {
   "cell_type": "code",
   "execution_count": null,
   "metadata": {},
   "outputs": [],
   "source": []
  },
  {
   "cell_type": "code",
   "execution_count": null,
   "metadata": {},
   "outputs": [],
   "source": []
  },
  {
   "cell_type": "code",
   "execution_count": null,
   "metadata": {},
   "outputs": [],
   "source": []
  },
  {
   "cell_type": "code",
   "execution_count": null,
   "metadata": {},
   "outputs": [],
   "source": []
  },
  {
   "cell_type": "code",
   "execution_count": null,
   "metadata": {},
   "outputs": [],
   "source": []
  },
  {
   "cell_type": "code",
   "execution_count": null,
   "metadata": {},
   "outputs": [],
   "source": []
  },
  {
   "cell_type": "code",
   "execution_count": null,
   "metadata": {},
   "outputs": [],
   "source": []
  }
 ],
 "metadata": {
  "kernelspec": {
   "display_name": "Python 3",
   "language": "python",
   "name": "python3"
  },
  "language_info": {
   "codemirror_mode": {
    "name": "ipython",
    "version": 3
   },
   "file_extension": ".py",
   "mimetype": "text/x-python",
   "name": "python",
   "nbconvert_exporter": "python",
   "pygments_lexer": "ipython3",
   "version": "3.6.6"
  }
 },
 "nbformat": 4,
 "nbformat_minor": 2
}
