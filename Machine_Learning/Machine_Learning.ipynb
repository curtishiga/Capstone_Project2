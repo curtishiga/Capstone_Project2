{
 "cells": [
  {
   "cell_type": "code",
   "execution_count": 59,
   "metadata": {},
   "outputs": [],
   "source": [
    "import pandas as pd\n",
    "import numpy as np\n",
    "import matplotlib.pyplot as plt\n",
    "\n",
    "from sklearn.preprocessing import StandardScaler\n",
    "from sklearn.model_selection import train_test_split\n",
    "from sklearn.metrics import confusion_matrix, roc_curve, roc_auc_score, classification_report\n",
    "\n",
    "from keras.layers import Dense, Dropout\n",
    "from keras.models import Sequential\n",
    "from keras.callbacks import EarlyStopping\n",
    "from keras.utils import to_categorical"
   ]
  },
  {
   "cell_type": "code",
   "execution_count": 2,
   "metadata": {},
   "outputs": [],
   "source": [
    "# Import 'all_pitches.csv'\n",
    "all_pitches = pd.read_csv('../Data/all_pitches.csv')"
   ]
  },
  {
   "cell_type": "code",
   "execution_count": 3,
   "metadata": {},
   "outputs": [
    {
     "data": {
      "text/html": [
       "<div>\n",
       "<style scoped>\n",
       "    .dataframe tbody tr th:only-of-type {\n",
       "        vertical-align: middle;\n",
       "    }\n",
       "\n",
       "    .dataframe tbody tr th {\n",
       "        vertical-align: top;\n",
       "    }\n",
       "\n",
       "    .dataframe thead th {\n",
       "        text-align: right;\n",
       "    }\n",
       "</style>\n",
       "<table border=\"1\" class=\"dataframe\">\n",
       "  <thead>\n",
       "    <tr style=\"text-align: right;\">\n",
       "      <th></th>\n",
       "      <th>game_id</th>\n",
       "      <th>batSide_code</th>\n",
       "      <th>batSide_des</th>\n",
       "      <th>batter</th>\n",
       "      <th>batter_id</th>\n",
       "      <th>call_des</th>\n",
       "      <th>inning_top_bot</th>\n",
       "      <th>pitchHand_code</th>\n",
       "      <th>pitchHand_des</th>\n",
       "      <th>pitch_type</th>\n",
       "      <th>...</th>\n",
       "      <th>strike_left</th>\n",
       "      <th>strike_down_right</th>\n",
       "      <th>strike_down</th>\n",
       "      <th>strike_down_left</th>\n",
       "      <th>call_B</th>\n",
       "      <th>call_C</th>\n",
       "      <th>call_F</th>\n",
       "      <th>call_H</th>\n",
       "      <th>call_S</th>\n",
       "      <th>is_out</th>\n",
       "    </tr>\n",
       "  </thead>\n",
       "  <tbody>\n",
       "    <tr>\n",
       "      <th>0</th>\n",
       "      <td>413661</td>\n",
       "      <td>L</td>\n",
       "      <td>Left</td>\n",
       "      <td>Matt Carpenter</td>\n",
       "      <td>572761</td>\n",
       "      <td>Called Strike</td>\n",
       "      <td>top</td>\n",
       "      <td>L</td>\n",
       "      <td>Left</td>\n",
       "      <td>FF</td>\n",
       "      <td>...</td>\n",
       "      <td>0</td>\n",
       "      <td>0</td>\n",
       "      <td>0</td>\n",
       "      <td>0</td>\n",
       "      <td>0</td>\n",
       "      <td>1</td>\n",
       "      <td>0</td>\n",
       "      <td>0</td>\n",
       "      <td>0</td>\n",
       "      <td>0</td>\n",
       "    </tr>\n",
       "    <tr>\n",
       "      <th>1</th>\n",
       "      <td>413661</td>\n",
       "      <td>L</td>\n",
       "      <td>Left</td>\n",
       "      <td>Matt Carpenter</td>\n",
       "      <td>572761</td>\n",
       "      <td>Swinging Strike</td>\n",
       "      <td>top</td>\n",
       "      <td>L</td>\n",
       "      <td>Left</td>\n",
       "      <td>FF</td>\n",
       "      <td>...</td>\n",
       "      <td>0</td>\n",
       "      <td>0</td>\n",
       "      <td>0</td>\n",
       "      <td>0</td>\n",
       "      <td>0</td>\n",
       "      <td>0</td>\n",
       "      <td>0</td>\n",
       "      <td>0</td>\n",
       "      <td>1</td>\n",
       "      <td>0</td>\n",
       "    </tr>\n",
       "    <tr>\n",
       "      <th>2</th>\n",
       "      <td>413661</td>\n",
       "      <td>L</td>\n",
       "      <td>Left</td>\n",
       "      <td>Matt Carpenter</td>\n",
       "      <td>572761</td>\n",
       "      <td>Foul</td>\n",
       "      <td>top</td>\n",
       "      <td>L</td>\n",
       "      <td>Left</td>\n",
       "      <td>FF</td>\n",
       "      <td>...</td>\n",
       "      <td>0</td>\n",
       "      <td>0</td>\n",
       "      <td>0</td>\n",
       "      <td>0</td>\n",
       "      <td>0</td>\n",
       "      <td>0</td>\n",
       "      <td>1</td>\n",
       "      <td>0</td>\n",
       "      <td>0</td>\n",
       "      <td>0</td>\n",
       "    </tr>\n",
       "    <tr>\n",
       "      <th>3</th>\n",
       "      <td>413661</td>\n",
       "      <td>L</td>\n",
       "      <td>Left</td>\n",
       "      <td>Matt Carpenter</td>\n",
       "      <td>572761</td>\n",
       "      <td>Ball</td>\n",
       "      <td>top</td>\n",
       "      <td>L</td>\n",
       "      <td>Left</td>\n",
       "      <td>FF</td>\n",
       "      <td>...</td>\n",
       "      <td>0</td>\n",
       "      <td>0</td>\n",
       "      <td>0</td>\n",
       "      <td>0</td>\n",
       "      <td>1</td>\n",
       "      <td>0</td>\n",
       "      <td>0</td>\n",
       "      <td>0</td>\n",
       "      <td>0</td>\n",
       "      <td>0</td>\n",
       "    </tr>\n",
       "    <tr>\n",
       "      <th>4</th>\n",
       "      <td>413661</td>\n",
       "      <td>L</td>\n",
       "      <td>Left</td>\n",
       "      <td>Matt Carpenter</td>\n",
       "      <td>572761</td>\n",
       "      <td>Ball</td>\n",
       "      <td>top</td>\n",
       "      <td>L</td>\n",
       "      <td>Left</td>\n",
       "      <td>CU</td>\n",
       "      <td>...</td>\n",
       "      <td>0</td>\n",
       "      <td>0</td>\n",
       "      <td>0</td>\n",
       "      <td>0</td>\n",
       "      <td>1</td>\n",
       "      <td>0</td>\n",
       "      <td>0</td>\n",
       "      <td>0</td>\n",
       "      <td>0</td>\n",
       "      <td>0</td>\n",
       "    </tr>\n",
       "  </tbody>\n",
       "</table>\n",
       "<p>5 rows × 60 columns</p>\n",
       "</div>"
      ],
      "text/plain": [
       "   game_id batSide_code batSide_des          batter  batter_id  \\\n",
       "0   413661            L        Left  Matt Carpenter     572761   \n",
       "1   413661            L        Left  Matt Carpenter     572761   \n",
       "2   413661            L        Left  Matt Carpenter     572761   \n",
       "3   413661            L        Left  Matt Carpenter     572761   \n",
       "4   413661            L        Left  Matt Carpenter     572761   \n",
       "\n",
       "          call_des inning_top_bot pitchHand_code pitchHand_des pitch_type  \\\n",
       "0    Called Strike            top              L          Left         FF   \n",
       "1  Swinging Strike            top              L          Left         FF   \n",
       "2             Foul            top              L          Left         FF   \n",
       "3             Ball            top              L          Left         FF   \n",
       "4             Ball            top              L          Left         CU   \n",
       "\n",
       "    ...   strike_left  strike_down_right  strike_down  strike_down_left  \\\n",
       "0   ...             0                  0            0                 0   \n",
       "1   ...             0                  0            0                 0   \n",
       "2   ...             0                  0            0                 0   \n",
       "3   ...             0                  0            0                 0   \n",
       "4   ...             0                  0            0                 0   \n",
       "\n",
       "   call_B  call_C  call_F  call_H  call_S  is_out  \n",
       "0       0       1       0       0       0       0  \n",
       "1       0       0       0       0       1       0  \n",
       "2       0       0       1       0       0       0  \n",
       "3       1       0       0       0       0       0  \n",
       "4       1       0       0       0       0       0  \n",
       "\n",
       "[5 rows x 60 columns]"
      ]
     },
     "execution_count": 3,
     "metadata": {},
     "output_type": "execute_result"
    }
   ],
   "source": [
    "all_pitches.head()"
   ]
  },
  {
   "cell_type": "code",
   "execution_count": 67,
   "metadata": {},
   "outputs": [],
   "source": [
    "calls = all_pitches.loc[:,'call_B':'is_out']"
   ]
  },
  {
   "cell_type": "code",
   "execution_count": 5,
   "metadata": {},
   "outputs": [
    {
     "data": {
      "text/plain": [
       "call_B    0.360146\n",
       "call_C    0.168416\n",
       "call_F    0.173895\n",
       "call_H    0.064159\n",
       "call_S    0.114559\n",
       "is_out    0.173634\n",
       "dtype: float64"
      ]
     },
     "execution_count": 5,
     "metadata": {},
     "output_type": "execute_result"
    }
   ],
   "source": [
    "calls_pct = calls.mean()\n",
    "calls_pct"
   ]
  },
  {
   "cell_type": "markdown",
   "metadata": {},
   "source": [
    "## ``is_out``, No Player ID's\n",
    "\n",
    "This first iteration of the model will use generic player and pitch information to predict outs. The percentage of pitches that resulted in an out calculated in the ``calls_pct`` table is around 17.36% so I'll be basing the models performance on this statistic. In other words, if the model were to predict no outs for all pitches, it'll have an accuracy of around 82.64% which doesn't provide any insight."
   ]
  },
  {
   "cell_type": "markdown",
   "metadata": {},
   "source": [
    "### Simple Model"
   ]
  },
  {
   "cell_type": "code",
   "execution_count": 6,
   "metadata": {},
   "outputs": [],
   "source": [
    "# Extract predictors\n",
    "predictors = all_pitches.loc[:,'count_balls':'strike_down_left'].drop(['pitch_locx', 'pitch_locy'], axis=1)"
   ]
  },
  {
   "cell_type": "code",
   "execution_count": 7,
   "metadata": {},
   "outputs": [],
   "source": [
    "# Extract target variable\n",
    "targets = calls['is_out']"
   ]
  },
  {
   "cell_type": "code",
   "execution_count": 8,
   "metadata": {},
   "outputs": [],
   "source": [
    "# Split the data into train and test sets\n",
    "pitches_train, pitches_test, targets_train, targets_test = train_test_split(predictors,\n",
    "                                                                            targets, \n",
    "                                                                            test_size = 0.25, \n",
    "                                                                            stratify = targets,\n",
    "                                                                            random_state = 123)"
   ]
  },
  {
   "cell_type": "code",
   "execution_count": 9,
   "metadata": {},
   "outputs": [],
   "source": [
    "# Instatiate a Sequential model\n",
    "model = Sequential()\n",
    "\n",
    "# Create a basic network\n",
    "model.add(Dense(37, activation = 'relu', input_shape = (predictors.shape[1],)))\n",
    "model.add(Dense(1, activation = 'sigmoid'))\n",
    "\n",
    "# Create a compiler\n",
    "model.compile(optimizer='adam', loss = 'binary_crossentropy', metrics=['accuracy'])"
   ]
  },
  {
   "cell_type": "code",
   "execution_count": 10,
   "metadata": {},
   "outputs": [],
   "source": [
    "# Set up early stopping monitor\n",
    "early_stopping_monitor = EarlyStopping(patience=5)"
   ]
  },
  {
   "cell_type": "code",
   "execution_count": 11,
   "metadata": {},
   "outputs": [
    {
     "name": "stdout",
     "output_type": "stream",
     "text": [
      "Train on 1197789 samples, validate on 399263 samples\n",
      "Epoch 1/20\n",
      "1197789/1197789 [==============================] - 26s 21us/step - loss: 0.4053 - acc: 0.8229 - val_loss: 0.3890 - val_acc: 0.8275\n",
      "Epoch 2/20\n",
      "1197789/1197789 [==============================] - 25s 21us/step - loss: 0.3945 - acc: 0.8239 - val_loss: 0.3871 - val_acc: 0.8270\n",
      "Epoch 3/20\n",
      "1197789/1197789 [==============================] - 25s 21us/step - loss: 0.3928 - acc: 0.8243 - val_loss: 0.3905 - val_acc: 0.8267\n",
      "Epoch 4/20\n",
      "1197789/1197789 [==============================] - 24s 20us/step - loss: 0.3919 - acc: 0.8247 - val_loss: 0.3867 - val_acc: 0.8277\n",
      "Epoch 5/20\n",
      "1197789/1197789 [==============================] - 24s 20us/step - loss: 0.3912 - acc: 0.8251 - val_loss: 0.3868 - val_acc: 0.8273\n",
      "Epoch 6/20\n",
      "1197789/1197789 [==============================] - 24s 20us/step - loss: 0.3907 - acc: 0.8249 - val_loss: 0.3863 - val_acc: 0.8278\n",
      "Epoch 7/20\n",
      "1197789/1197789 [==============================] - 24s 20us/step - loss: 0.3904 - acc: 0.8252 - val_loss: 0.3860 - val_acc: 0.8279\n",
      "Epoch 8/20\n",
      "1197789/1197789 [==============================] - 24s 20us/step - loss: 0.3902 - acc: 0.8251 - val_loss: 0.3856 - val_acc: 0.8278\n",
      "Epoch 9/20\n",
      "1197789/1197789 [==============================] - 25s 21us/step - loss: 0.3900 - acc: 0.8253 - val_loss: 0.3858 - val_acc: 0.8270\n",
      "Epoch 10/20\n",
      "1197789/1197789 [==============================] - 24s 20us/step - loss: 0.3897 - acc: 0.8254 - val_loss: 0.3856 - val_acc: 0.8279\n",
      "Epoch 11/20\n",
      "1197789/1197789 [==============================] - 25s 20us/step - loss: 0.3893 - acc: 0.8253 - val_loss: 0.3856 - val_acc: 0.8277\n",
      "Epoch 12/20\n",
      "1197789/1197789 [==============================] - 25s 21us/step - loss: 0.3891 - acc: 0.8255 - val_loss: 0.3871 - val_acc: 0.8260\n",
      "Epoch 13/20\n",
      "1197789/1197789 [==============================] - 25s 21us/step - loss: 0.3890 - acc: 0.8255 - val_loss: 0.3885 - val_acc: 0.8277\n"
     ]
    },
    {
     "data": {
      "text/plain": [
       "<keras.callbacks.History at 0x20e8c064908>"
      ]
     },
     "execution_count": 11,
     "metadata": {},
     "output_type": "execute_result"
    }
   ],
   "source": [
    "# fit the training data to the basic model\n",
    "model.fit(pitches_train,\n",
    "          targets_train,\n",
    "          validation_split = 0.25,\n",
    "          epochs = 20,\n",
    "          callbacks = [early_stopping_monitor])"
   ]
  },
  {
   "cell_type": "code",
   "execution_count": 12,
   "metadata": {},
   "outputs": [
    {
     "name": "stdout",
     "output_type": "stream",
     "text": [
      "532351/532351 [==============================] - 4s 8us/step\n",
      "Test score: 0.39254891093538735\n",
      "Test accuracy: 0.8263739525241407\n"
     ]
    }
   ],
   "source": [
    "# Make predictions on the test set\n",
    "score, acc = model.evaluate(pitches_test, targets_test)\n",
    "print('Test score:', score)\n",
    "print('Test accuracy:', acc)"
   ]
  },
  {
   "cell_type": "code",
   "execution_count": 16,
   "metadata": {},
   "outputs": [
    {
     "data": {
      "text/plain": [
       "array([[439875,     42],\n",
       "       [ 92388,     46]], dtype=int64)"
      ]
     },
     "execution_count": 16,
     "metadata": {},
     "output_type": "execute_result"
    }
   ],
   "source": [
    "# Make predictions on the test data\n",
    "predictions = model.predict_classes(pitches_test)\n",
    "\n",
    "# Print the confusion matrix\n",
    "confusion_matrix(targets_test, predictions)"
   ]
  },
  {
   "cell_type": "code",
   "execution_count": 27,
   "metadata": {},
   "outputs": [
    {
     "name": "stdout",
     "output_type": "stream",
     "text": [
      "0.5002010899119723\n"
     ]
    }
   ],
   "source": [
    "fpr, tpr, thresholds = roc_curve(targets_test, predictions)\n",
    "\n",
    "print(roc_auc_score(targets_test, predictions))"
   ]
  },
  {
   "cell_type": "markdown",
   "metadata": {},
   "source": [
    "This simple model was able to accurately predict outs roughly 82.64% of the time on the test set. That may seem like a promising result but if the model were to predict only no outs, it would perform the same. It's also worth noting the models true-positive rate is almost nonexistent."
   ]
  },
  {
   "cell_type": "markdown",
   "metadata": {},
   "source": [
    "### Increase Model Capacity"
   ]
  },
  {
   "cell_type": "code",
   "execution_count": 44,
   "metadata": {},
   "outputs": [],
   "source": [
    "# Instatiate a Sequential model\n",
    "model = Sequential()\n",
    "\n",
    "# Create a 3 layers\n",
    "model.add(Dense(300, activation = 'relu', input_shape = (predictors.shape[1],)))\n",
    "model.add(Dense(100, activation = 'relu'))\n",
    "model.add(Dense(1, activation = 'sigmoid'))\n",
    "\n",
    "# Create a compiler\n",
    "model.compile(optimizer='adam', loss = 'binary_crossentropy', metrics=['accuracy'])"
   ]
  },
  {
   "cell_type": "code",
   "execution_count": 45,
   "metadata": {},
   "outputs": [
    {
     "name": "stdout",
     "output_type": "stream",
     "text": [
      "Train on 1197789 samples, validate on 399263 samples\n",
      "Epoch 1/20\n",
      "1197789/1197789 [==============================] - 61s 51us/step - loss: 0.3985 - acc: 0.8248 - val_loss: 0.3971 - val_acc: 0.8278\n",
      "Epoch 2/20\n",
      "1197789/1197789 [==============================] - 49s 41us/step - loss: 0.3916 - acc: 0.8256 - val_loss: 0.3860 - val_acc: 0.8279\n",
      "Epoch 3/20\n",
      "1197789/1197789 [==============================] - 47s 40us/step - loss: 0.3906 - acc: 0.8255 - val_loss: 0.3889 - val_acc: 0.8275\n",
      "Epoch 4/20\n",
      "1197789/1197789 [==============================] - 47s 39us/step - loss: 0.3899 - acc: 0.8258 - val_loss: 0.3851 - val_acc: 0.8280\n",
      "Epoch 5/20\n",
      "1197789/1197789 [==============================] - 48s 40us/step - loss: 0.3894 - acc: 0.8260 - val_loss: 0.3851 - val_acc: 0.8287\n",
      "Epoch 6/20\n",
      "1197789/1197789 [==============================] - 48s 40us/step - loss: 0.3889 - acc: 0.8260 - val_loss: 0.3854 - val_acc: 0.8271\n",
      "Epoch 7/20\n",
      "1197789/1197789 [==============================] - 48s 40us/step - loss: 0.3886 - acc: 0.8262 - val_loss: 0.3856 - val_acc: 0.8286\n",
      "Epoch 8/20\n",
      "1197789/1197789 [==============================] - 48s 40us/step - loss: 0.3884 - acc: 0.8262 - val_loss: 0.3867 - val_acc: 0.8279\n",
      "Epoch 9/20\n",
      "1197789/1197789 [==============================] - 48s 40us/step - loss: 0.3881 - acc: 0.8261 - val_loss: 0.3846 - val_acc: 0.8288\n",
      "Epoch 10/20\n",
      "1197789/1197789 [==============================] - 48s 40us/step - loss: 0.3879 - acc: 0.8262 - val_loss: 0.3833 - val_acc: 0.8289\n",
      "Epoch 11/20\n",
      "1197789/1197789 [==============================] - 49s 41us/step - loss: 0.3879 - acc: 0.8265 - val_loss: 0.3846 - val_acc: 0.8285\n",
      "Epoch 12/20\n",
      "1197789/1197789 [==============================] - 48s 40us/step - loss: 0.3878 - acc: 0.8265 - val_loss: 0.3833 - val_acc: 0.8287\n",
      "Epoch 13/20\n",
      "1197789/1197789 [==============================] - 47s 39us/step - loss: 0.3876 - acc: 0.8263 - val_loss: 0.3836 - val_acc: 0.8285\n",
      "Epoch 14/20\n",
      "1197789/1197789 [==============================] - 48s 40us/step - loss: 0.3876 - acc: 0.8264 - val_loss: 0.3839 - val_acc: 0.8281\n",
      "Epoch 15/20\n",
      "1197789/1197789 [==============================] - 47s 40us/step - loss: 0.3874 - acc: 0.8264 - val_loss: 0.3841 - val_acc: 0.8278\n",
      "Epoch 16/20\n",
      "1197789/1197789 [==============================] - 48s 40us/step - loss: 0.3874 - acc: 0.8264 - val_loss: 0.3848 - val_acc: 0.8272\n",
      "Epoch 17/20\n",
      "1197789/1197789 [==============================] - 48s 40us/step - loss: 0.3872 - acc: 0.8265 - val_loss: 0.3829 - val_acc: 0.8282\n",
      "Epoch 18/20\n",
      "1197789/1197789 [==============================] - 48s 40us/step - loss: 0.3872 - acc: 0.8263 - val_loss: 0.3833 - val_acc: 0.8285\n",
      "Epoch 19/20\n",
      "1197789/1197789 [==============================] - 47s 40us/step - loss: 0.3871 - acc: 0.8264 - val_loss: 0.3845 - val_acc: 0.8284\n",
      "Epoch 20/20\n",
      "1197789/1197789 [==============================] - 47s 40us/step - loss: 0.3871 - acc: 0.8264 - val_loss: 0.3827 - val_acc: 0.8290\n"
     ]
    },
    {
     "data": {
      "text/plain": [
       "<keras.callbacks.History at 0x20eb342bb70>"
      ]
     },
     "execution_count": 45,
     "metadata": {},
     "output_type": "execute_result"
    }
   ],
   "source": [
    "# fit the training data to the basic model\n",
    "model.fit(pitches_train,\n",
    "          targets_train,\n",
    "          validation_split = 0.25,\n",
    "          epochs = 20,\n",
    "          callbacks = [early_stopping_monitor])"
   ]
  },
  {
   "cell_type": "code",
   "execution_count": 46,
   "metadata": {},
   "outputs": [
    {
     "name": "stdout",
     "output_type": "stream",
     "text": [
      "532351/532351 [==============================] - 7s 12us/step\n",
      "Test score: 0.3864145097797152\n",
      "Test accuracy: 0.8269318551109678\n"
     ]
    }
   ],
   "source": [
    "# Make predictions on the test set\n",
    "score, acc = model.evaluate(pitches_test, targets_test)\n",
    "print('Test score:', score)\n",
    "print('Test accuracy:', acc)"
   ]
  },
  {
   "cell_type": "code",
   "execution_count": 47,
   "metadata": {},
   "outputs": [
    {
     "data": {
      "text/plain": [
       "array([[433538,   6379],\n",
       "       [ 85754,   6680]], dtype=int64)"
      ]
     },
     "execution_count": 47,
     "metadata": {},
     "output_type": "execute_result"
    }
   ],
   "source": [
    "# Make predictions on the test data\n",
    "predictions = model.predict_classes(pitches_test)\n",
    "\n",
    "# Print the confusion matrix\n",
    "confusion_matrix(targets_test, predictions)"
   ]
  },
  {
   "cell_type": "markdown",
   "metadata": {},
   "source": [
    "Increasing the model capacity improved model performance. Not only is it more accurate the the baseline model, but it also has a much better true-positive rate.\n",
    "\n",
    "This model still needs improvement but next will be to add different predictors and target variables to the model to see how models improve."
   ]
  },
  {
   "cell_type": "code",
   "execution_count": null,
   "metadata": {},
   "outputs": [],
   "source": []
  },
  {
   "cell_type": "code",
   "execution_count": null,
   "metadata": {},
   "outputs": [],
   "source": []
  },
  {
   "cell_type": "markdown",
   "metadata": {},
   "source": [
    "## Calls, No Player ID's\n",
    "\n",
    "Predictors stay the same but target labels change."
   ]
  },
  {
   "cell_type": "code",
   "execution_count": null,
   "metadata": {},
   "outputs": [],
   "source": []
  },
  {
   "cell_type": "code",
   "execution_count": 68,
   "metadata": {},
   "outputs": [],
   "source": [
    "# Split the data into train and test sets\n",
    "pitches_train, pitches_test, calls_train, calls_test = train_test_split(predictors,\n",
    "                                                                        calls, \n",
    "                                                                        test_size = 0.25, \n",
    "                                                                        stratify = calls,\n",
    "                                                                        random_state = 123)"
   ]
  },
  {
   "cell_type": "code",
   "execution_count": 90,
   "metadata": {},
   "outputs": [],
   "source": [
    "# Instatiate a Sequential model\n",
    "model = Sequential()\n",
    "\n",
    "# Create a basic network\n",
    "model.add(Dense(300, activation = 'relu', input_shape = (predictors.shape[1],)))\n",
    "model.add(Dense(100, activation = 'relu'))\n",
    "model.add(Dense(calls_train.shape[1], activation = 'sigmoid'))\n",
    "\n",
    "# Create a compiler\n",
    "model.compile(optimizer='adam', loss = 'binary_crossentropy', metrics=['accuracy'])"
   ]
  },
  {
   "cell_type": "code",
   "execution_count": 10,
   "metadata": {},
   "outputs": [],
   "source": [
    "# Set up early stopping monitor\n",
    "# early_stopping_monitor = EarlyStopping(patience=5)"
   ]
  },
  {
   "cell_type": "code",
   "execution_count": 91,
   "metadata": {
    "scrolled": false
   },
   "outputs": [
    {
     "name": "stdout",
     "output_type": "stream",
     "text": [
      "Train on 1197789 samples, validate on 399263 samples\n",
      "Epoch 1/20\n",
      "1197789/1197789 [==============================] - 64s 53us/step - loss: 0.3514 - acc: 0.8553 - val_loss: 0.3484 - val_acc: 0.8562\n",
      "Epoch 2/20\n",
      "1197789/1197789 [==============================] - 51s 43us/step - loss: 0.3451 - acc: 0.8569 - val_loss: 0.3445 - val_acc: 0.8571\n",
      "Epoch 3/20\n",
      "1197789/1197789 [==============================] - 50s 42us/step - loss: 0.3435 - acc: 0.8574 - val_loss: 0.3434 - val_acc: 0.8574\n",
      "Epoch 4/20\n",
      "1197789/1197789 [==============================] - 51s 42us/step - loss: 0.3426 - acc: 0.8574 - val_loss: 0.3431 - val_acc: 0.8571\n",
      "Epoch 5/20\n",
      "1197789/1197789 [==============================] - 51s 42us/step - loss: 0.3421 - acc: 0.8576 - val_loss: 0.3442 - val_acc: 0.8570\n",
      "Epoch 6/20\n",
      "1197789/1197789 [==============================] - 50s 42us/step - loss: 0.3419 - acc: 0.8576 - val_loss: 0.3433 - val_acc: 0.8569\n",
      "Epoch 7/20\n",
      "1197789/1197789 [==============================] - 51s 42us/step - loss: 0.3418 - acc: 0.8577 - val_loss: 0.3421 - val_acc: 0.8578\n",
      "Epoch 8/20\n",
      "1197789/1197789 [==============================] - 50s 42us/step - loss: 0.3417 - acc: 0.8577 - val_loss: 0.3421 - val_acc: 0.8576\n",
      "Epoch 9/20\n",
      "1197789/1197789 [==============================] - 50s 42us/step - loss: 0.3416 - acc: 0.8578 - val_loss: 0.3433 - val_acc: 0.8568\n",
      "Epoch 10/20\n",
      "1197789/1197789 [==============================] - 50s 42us/step - loss: 0.3415 - acc: 0.8578 - val_loss: 0.3424 - val_acc: 0.8577\n",
      "Epoch 11/20\n",
      "1197789/1197789 [==============================] - 51s 42us/step - loss: 0.3415 - acc: 0.8577 - val_loss: 0.3417 - val_acc: 0.8573\n",
      "Epoch 12/20\n",
      "1197789/1197789 [==============================] - 51s 42us/step - loss: 0.3414 - acc: 0.8578 - val_loss: 0.3419 - val_acc: 0.8578\n",
      "Epoch 13/20\n",
      "1197789/1197789 [==============================] - 51s 43us/step - loss: 0.3414 - acc: 0.8578 - val_loss: 0.3418 - val_acc: 0.8574\n",
      "Epoch 14/20\n",
      "1197789/1197789 [==============================] - 51s 42us/step - loss: 0.3414 - acc: 0.8578 - val_loss: 0.3413 - val_acc: 0.8576\n",
      "Epoch 15/20\n",
      "1197789/1197789 [==============================] - 51s 42us/step - loss: 0.3414 - acc: 0.8578 - val_loss: 0.3416 - val_acc: 0.8576\n",
      "Epoch 16/20\n",
      "1197789/1197789 [==============================] - 51s 42us/step - loss: 0.3413 - acc: 0.8578 - val_loss: 0.3418 - val_acc: 0.8576\n",
      "Epoch 17/20\n",
      "1197789/1197789 [==============================] - 51s 42us/step - loss: 0.3414 - acc: 0.8578 - val_loss: 0.3428 - val_acc: 0.8574\n",
      "Epoch 18/20\n",
      "1197789/1197789 [==============================] - 51s 43us/step - loss: 0.3414 - acc: 0.8578 - val_loss: 0.3416 - val_acc: 0.8578\n",
      "Epoch 19/20\n",
      "1197789/1197789 [==============================] - 51s 42us/step - loss: 0.3414 - acc: 0.8578 - val_loss: 0.3420 - val_acc: 0.8577\n"
     ]
    },
    {
     "data": {
      "text/plain": [
       "<keras.callbacks.History at 0x2104668a780>"
      ]
     },
     "execution_count": 91,
     "metadata": {},
     "output_type": "execute_result"
    }
   ],
   "source": [
    "# fit the training data to the basic model\n",
    "model.fit(pitches_train,\n",
    "          calls_train,\n",
    "          validation_split = 0.25,\n",
    "          epochs = 20,\n",
    "          callbacks = [early_stopping_monitor])"
   ]
  },
  {
   "cell_type": "code",
   "execution_count": 92,
   "metadata": {},
   "outputs": [
    {
     "name": "stdout",
     "output_type": "stream",
     "text": [
      "532351/532351 [==============================] - 8s 15us/step\n",
      "Test score: 0.3415373240703978\n",
      "Test accuracy: 0.8580178707789186\n"
     ]
    }
   ],
   "source": [
    "# Make predictions on the test set\n",
    "score, acc = model.evaluate(pitches_test, calls_test)\n",
    "print('Test score:', score)\n",
    "print('Test accuracy:', acc)"
   ]
  },
  {
   "cell_type": "code",
   "execution_count": 93,
   "metadata": {},
   "outputs": [],
   "source": [
    "# Make predictions on the test data\n",
    "predictions = model.predict_classes(pitches_test)"
   ]
  },
  {
   "cell_type": "code",
   "execution_count": 94,
   "metadata": {},
   "outputs": [
    {
     "data": {
      "text/plain": [
       "array([5, 5, 0, ..., 0, 0, 5], dtype=int64)"
      ]
     },
     "execution_count": 94,
     "metadata": {},
     "output_type": "execute_result"
    }
   ],
   "source": [
    "predictions"
   ]
  },
  {
   "cell_type": "code",
   "execution_count": null,
   "metadata": {},
   "outputs": [],
   "source": [
    "# Print the confusion matrix\n",
    "classification_report(calls_test, predictions)"
   ]
  },
  {
   "cell_type": "code",
   "execution_count": null,
   "metadata": {},
   "outputs": [],
   "source": []
  },
  {
   "cell_type": "code",
   "execution_count": null,
   "metadata": {},
   "outputs": [],
   "source": []
  }
 ],
 "metadata": {
  "kernelspec": {
   "display_name": "Python 3",
   "language": "python",
   "name": "python3"
  },
  "language_info": {
   "codemirror_mode": {
    "name": "ipython",
    "version": 3
   },
   "file_extension": ".py",
   "mimetype": "text/x-python",
   "name": "python",
   "nbconvert_exporter": "python",
   "pygments_lexer": "ipython3",
   "version": "3.6.7"
  }
 },
 "nbformat": 4,
 "nbformat_minor": 2
}
