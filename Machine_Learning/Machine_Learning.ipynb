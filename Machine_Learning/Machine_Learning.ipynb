{
 "cells": [
  {
   "cell_type": "code",
   "execution_count": 1,
   "metadata": {},
   "outputs": [
    {
     "name": "stderr",
     "output_type": "stream",
     "text": [
      "Using TensorFlow backend.\n"
     ]
    }
   ],
   "source": [
    "import pandas as pd\n",
    "import numpy as np\n",
    "import matplotlib.pyplot as plt\n",
    "from tensorflow import set_random_seed\n",
    "\n",
    "np.random.seed(123)\n",
    "set_random_seed(1234)\n",
    "\n",
    "from sklearn.preprocessing import StandardScaler\n",
    "from sklearn.model_selection import train_test_split\n",
    "from sklearn.metrics import confusion_matrix, roc_curve, roc_auc_score, classification_report\n",
    "\n",
    "from keras.layers import Dense, Dropout\n",
    "from keras.models import Sequential\n",
    "from keras.callbacks import EarlyStopping\n",
    "from keras.utils import to_categorical"
   ]
  },
  {
   "cell_type": "code",
   "execution_count": 2,
   "metadata": {},
   "outputs": [],
   "source": [
    "# Import 'all_pitches.csv'\n",
    "all_pitches = pd.read_csv('../Data/all_pitches.csv')"
   ]
  },
  {
   "cell_type": "code",
   "execution_count": 3,
   "metadata": {},
   "outputs": [
    {
     "data": {
      "text/html": [
       "<div>\n",
       "<style scoped>\n",
       "    .dataframe tbody tr th:only-of-type {\n",
       "        vertical-align: middle;\n",
       "    }\n",
       "\n",
       "    .dataframe tbody tr th {\n",
       "        vertical-align: top;\n",
       "    }\n",
       "\n",
       "    .dataframe thead th {\n",
       "        text-align: right;\n",
       "    }\n",
       "</style>\n",
       "<table border=\"1\" class=\"dataframe\">\n",
       "  <thead>\n",
       "    <tr style=\"text-align: right;\">\n",
       "      <th></th>\n",
       "      <th>game_id</th>\n",
       "      <th>batSide_code</th>\n",
       "      <th>batSide_des</th>\n",
       "      <th>batter</th>\n",
       "      <th>batter_id</th>\n",
       "      <th>call_des</th>\n",
       "      <th>inning_top_bot</th>\n",
       "      <th>pitchHand_code</th>\n",
       "      <th>pitchHand_des</th>\n",
       "      <th>pitch_type</th>\n",
       "      <th>...</th>\n",
       "      <th>strike_left</th>\n",
       "      <th>strike_down_right</th>\n",
       "      <th>strike_down</th>\n",
       "      <th>strike_down_left</th>\n",
       "      <th>call_B</th>\n",
       "      <th>call_C</th>\n",
       "      <th>call_F</th>\n",
       "      <th>call_H</th>\n",
       "      <th>call_S</th>\n",
       "      <th>is_out</th>\n",
       "    </tr>\n",
       "  </thead>\n",
       "  <tbody>\n",
       "    <tr>\n",
       "      <th>0</th>\n",
       "      <td>413661</td>\n",
       "      <td>L</td>\n",
       "      <td>Left</td>\n",
       "      <td>Matt Carpenter</td>\n",
       "      <td>572761</td>\n",
       "      <td>Called Strike</td>\n",
       "      <td>top</td>\n",
       "      <td>L</td>\n",
       "      <td>Left</td>\n",
       "      <td>FF</td>\n",
       "      <td>...</td>\n",
       "      <td>0</td>\n",
       "      <td>0</td>\n",
       "      <td>0</td>\n",
       "      <td>0</td>\n",
       "      <td>0</td>\n",
       "      <td>1</td>\n",
       "      <td>0</td>\n",
       "      <td>0</td>\n",
       "      <td>0</td>\n",
       "      <td>0</td>\n",
       "    </tr>\n",
       "    <tr>\n",
       "      <th>1</th>\n",
       "      <td>413661</td>\n",
       "      <td>L</td>\n",
       "      <td>Left</td>\n",
       "      <td>Matt Carpenter</td>\n",
       "      <td>572761</td>\n",
       "      <td>Swinging Strike</td>\n",
       "      <td>top</td>\n",
       "      <td>L</td>\n",
       "      <td>Left</td>\n",
       "      <td>FF</td>\n",
       "      <td>...</td>\n",
       "      <td>0</td>\n",
       "      <td>0</td>\n",
       "      <td>0</td>\n",
       "      <td>0</td>\n",
       "      <td>0</td>\n",
       "      <td>0</td>\n",
       "      <td>0</td>\n",
       "      <td>0</td>\n",
       "      <td>1</td>\n",
       "      <td>0</td>\n",
       "    </tr>\n",
       "    <tr>\n",
       "      <th>2</th>\n",
       "      <td>413661</td>\n",
       "      <td>L</td>\n",
       "      <td>Left</td>\n",
       "      <td>Matt Carpenter</td>\n",
       "      <td>572761</td>\n",
       "      <td>Foul</td>\n",
       "      <td>top</td>\n",
       "      <td>L</td>\n",
       "      <td>Left</td>\n",
       "      <td>FF</td>\n",
       "      <td>...</td>\n",
       "      <td>0</td>\n",
       "      <td>0</td>\n",
       "      <td>0</td>\n",
       "      <td>0</td>\n",
       "      <td>0</td>\n",
       "      <td>0</td>\n",
       "      <td>1</td>\n",
       "      <td>0</td>\n",
       "      <td>0</td>\n",
       "      <td>0</td>\n",
       "    </tr>\n",
       "    <tr>\n",
       "      <th>3</th>\n",
       "      <td>413661</td>\n",
       "      <td>L</td>\n",
       "      <td>Left</td>\n",
       "      <td>Matt Carpenter</td>\n",
       "      <td>572761</td>\n",
       "      <td>Ball</td>\n",
       "      <td>top</td>\n",
       "      <td>L</td>\n",
       "      <td>Left</td>\n",
       "      <td>FF</td>\n",
       "      <td>...</td>\n",
       "      <td>0</td>\n",
       "      <td>0</td>\n",
       "      <td>0</td>\n",
       "      <td>0</td>\n",
       "      <td>1</td>\n",
       "      <td>0</td>\n",
       "      <td>0</td>\n",
       "      <td>0</td>\n",
       "      <td>0</td>\n",
       "      <td>0</td>\n",
       "    </tr>\n",
       "    <tr>\n",
       "      <th>4</th>\n",
       "      <td>413661</td>\n",
       "      <td>L</td>\n",
       "      <td>Left</td>\n",
       "      <td>Matt Carpenter</td>\n",
       "      <td>572761</td>\n",
       "      <td>Ball</td>\n",
       "      <td>top</td>\n",
       "      <td>L</td>\n",
       "      <td>Left</td>\n",
       "      <td>CU</td>\n",
       "      <td>...</td>\n",
       "      <td>0</td>\n",
       "      <td>0</td>\n",
       "      <td>0</td>\n",
       "      <td>0</td>\n",
       "      <td>1</td>\n",
       "      <td>0</td>\n",
       "      <td>0</td>\n",
       "      <td>0</td>\n",
       "      <td>0</td>\n",
       "      <td>0</td>\n",
       "    </tr>\n",
       "  </tbody>\n",
       "</table>\n",
       "<p>5 rows × 60 columns</p>\n",
       "</div>"
      ],
      "text/plain": [
       "   game_id batSide_code batSide_des          batter  batter_id  \\\n",
       "0   413661            L        Left  Matt Carpenter     572761   \n",
       "1   413661            L        Left  Matt Carpenter     572761   \n",
       "2   413661            L        Left  Matt Carpenter     572761   \n",
       "3   413661            L        Left  Matt Carpenter     572761   \n",
       "4   413661            L        Left  Matt Carpenter     572761   \n",
       "\n",
       "          call_des inning_top_bot pitchHand_code pitchHand_des pitch_type  \\\n",
       "0    Called Strike            top              L          Left         FF   \n",
       "1  Swinging Strike            top              L          Left         FF   \n",
       "2             Foul            top              L          Left         FF   \n",
       "3             Ball            top              L          Left         FF   \n",
       "4             Ball            top              L          Left         CU   \n",
       "\n",
       "    ...   strike_left  strike_down_right  strike_down  strike_down_left  \\\n",
       "0   ...             0                  0            0                 0   \n",
       "1   ...             0                  0            0                 0   \n",
       "2   ...             0                  0            0                 0   \n",
       "3   ...             0                  0            0                 0   \n",
       "4   ...             0                  0            0                 0   \n",
       "\n",
       "   call_B  call_C  call_F  call_H  call_S  is_out  \n",
       "0       0       1       0       0       0       0  \n",
       "1       0       0       0       0       1       0  \n",
       "2       0       0       1       0       0       0  \n",
       "3       1       0       0       0       0       0  \n",
       "4       1       0       0       0       0       0  \n",
       "\n",
       "[5 rows x 60 columns]"
      ]
     },
     "execution_count": 3,
     "metadata": {},
     "output_type": "execute_result"
    }
   ],
   "source": [
    "all_pitches.head()"
   ]
  },
  {
   "cell_type": "code",
   "execution_count": 4,
   "metadata": {},
   "outputs": [],
   "source": [
    "calls = all_pitches.loc[:,'call_B':'is_out']"
   ]
  },
  {
   "cell_type": "code",
   "execution_count": 5,
   "metadata": {},
   "outputs": [
    {
     "data": {
      "text/plain": [
       "call_B    0.360146\n",
       "call_C    0.168416\n",
       "call_F    0.173895\n",
       "call_H    0.064159\n",
       "call_S    0.114559\n",
       "is_out    0.173634\n",
       "dtype: float64"
      ]
     },
     "execution_count": 5,
     "metadata": {},
     "output_type": "execute_result"
    }
   ],
   "source": [
    "calls_pct = calls.mean()\n",
    "calls_pct"
   ]
  },
  {
   "cell_type": "markdown",
   "metadata": {},
   "source": [
    "## ``is_out``, No Player ID's\n",
    "\n",
    "This first iteration of the model will use generic player and pitch information to predict outs. The percentage of pitches that resulted in an out calculated in the ``calls_pct`` table is around 17.36% so I'll be basing the models performance on this statistic. In other words, if the model were to predict no outs for all pitches, it'll have an accuracy of around 82.64% which doesn't provide any insight."
   ]
  },
  {
   "cell_type": "markdown",
   "metadata": {},
   "source": [
    "### Simple Model"
   ]
  },
  {
   "cell_type": "code",
   "execution_count": 6,
   "metadata": {},
   "outputs": [],
   "source": [
    "# Extract predictors\n",
    "predictors = all_pitches.loc[:,'count_balls':'strike_down_left'].drop(['pitch_locx', 'pitch_locy'], axis=1)"
   ]
  },
  {
   "cell_type": "code",
   "execution_count": 7,
   "metadata": {},
   "outputs": [],
   "source": [
    "# Extract target variable\n",
    "targets = calls['is_out']"
   ]
  },
  {
   "cell_type": "code",
   "execution_count": 8,
   "metadata": {},
   "outputs": [],
   "source": [
    "# Split the data into train and test sets\n",
    "X_train, X_test, y_train, y_test = train_test_split(predictors,\n",
    "                                                    targets, \n",
    "                                                    test_size = 0.25, \n",
    "                                                    stratify = targets,\n",
    "                                                    random_state = 123)"
   ]
  },
  {
   "cell_type": "code",
   "execution_count": 9,
   "metadata": {},
   "outputs": [],
   "source": [
    "# Instatiate a Sequential model\n",
    "model_base = Sequential()\n",
    "\n",
    "# Create a basic network\n",
    "model_base.add(Dense(40, activation = 'relu', input_shape = (X_train.shape[1],)))\n",
    "model_base.add(Dense(1, activation = 'sigmoid'))\n",
    "\n",
    "# Create a compiler\n",
    "model_base.compile(optimizer='adam', loss = 'binary_crossentropy', metrics=['accuracy'])"
   ]
  },
  {
   "cell_type": "code",
   "execution_count": 10,
   "metadata": {},
   "outputs": [],
   "source": [
    "# Set up early stopping monitor\n",
    "early_stopping_monitor = EarlyStopping(patience=3)"
   ]
  },
  {
   "cell_type": "code",
   "execution_count": 11,
   "metadata": {},
   "outputs": [
    {
     "name": "stdout",
     "output_type": "stream",
     "text": [
      "Train on 1197789 samples, validate on 399263 samples\n",
      "Epoch 1/20\n",
      "1197789/1197789 [==============================] - 25s 21us/step - loss: 2.8055 - acc: 0.8259 - val_loss: 2.7781 - val_acc: 0.8276\n",
      "Epoch 2/20\n",
      "1197789/1197789 [==============================] - 23s 20us/step - loss: 2.8055 - acc: 0.8259 - val_loss: 2.7781 - val_acc: 0.8276\n",
      "Epoch 3/20\n",
      "1197789/1197789 [==============================] - 23s 20us/step - loss: 2.8055 - acc: 0.8259 - val_loss: 2.7781 - val_acc: 0.8276\n",
      "Epoch 4/20\n",
      "1197789/1197789 [==============================] - 24s 20us/step - loss: 2.8055 - acc: 0.8259 - val_loss: 2.7781 - val_acc: 0.8276\n"
     ]
    },
    {
     "data": {
      "text/plain": [
       "<keras.callbacks.History at 0x1da536d4400>"
      ]
     },
     "execution_count": 11,
     "metadata": {},
     "output_type": "execute_result"
    }
   ],
   "source": [
    "# fit the training data to the basic model\n",
    "model_base.fit(X_train,\n",
    "               y_train,\n",
    "               validation_split = 0.25,\n",
    "               epochs = 20,\n",
    "               callbacks = [early_stopping_monitor])"
   ]
  },
  {
   "cell_type": "code",
   "execution_count": 12,
   "metadata": {},
   "outputs": [
    {
     "name": "stdout",
     "output_type": "stream",
     "text": [
      "532351/532351 [==============================] - 4s 7us/step\n",
      "Test score: 2.798642316433014\n",
      "Test accuracy: 0.8263664386845875\n"
     ]
    }
   ],
   "source": [
    "# Make predictions on the test set\n",
    "score, acc = model_base.evaluate(X_test, y_test)\n",
    "print('Test score:', score)\n",
    "print('Test accuracy:', acc)"
   ]
  },
  {
   "cell_type": "code",
   "execution_count": 13,
   "metadata": {},
   "outputs": [
    {
     "data": {
      "text/plain": [
       "array([[439917,      0],\n",
       "       [ 92434,      0]], dtype=int64)"
      ]
     },
     "execution_count": 13,
     "metadata": {},
     "output_type": "execute_result"
    }
   ],
   "source": [
    "# Make predictions on the test data\n",
    "predictions = model_base.predict_classes(X_test)\n",
    "\n",
    "# Print the confusion matrix\n",
    "confusion_matrix(y_test, predictions)"
   ]
  },
  {
   "cell_type": "code",
   "execution_count": 14,
   "metadata": {},
   "outputs": [
    {
     "name": "stdout",
     "output_type": "stream",
     "text": [
      "0.5\n"
     ]
    }
   ],
   "source": [
    "fpr, tpr, thresholds = roc_curve(y_test, predictions)\n",
    "\n",
    "print(roc_auc_score(y_test, predictions))"
   ]
  },
  {
   "cell_type": "markdown",
   "metadata": {},
   "source": [
    "This simple model was able to accurately predict outs roughly 82.64% of the time on the test set. That may seem like a promising result but if the model were to predict only no outs, it would perform the same. It's also worth noting the models true-positive rate is almost nonexistent."
   ]
  },
  {
   "cell_type": "markdown",
   "metadata": {},
   "source": [
    "### Increase Model Capacity"
   ]
  },
  {
   "cell_type": "code",
   "execution_count": 15,
   "metadata": {},
   "outputs": [],
   "source": [
    "# Instatiate a Sequential model\n",
    "model_outs = Sequential()\n",
    "\n",
    "# Create a 3 layers\n",
    "model_outs.add(Dense(300, activation = 'relu', input_shape = (X_train.shape[1],)))\n",
    "model_outs.add(Dense(100, activation = 'relu'))\n",
    "model_outs.add(Dense(100, activation = 'relu'))\n",
    "model_outs.add(Dense(1, activation = 'sigmoid'))\n",
    "\n",
    "# Create a compiler\n",
    "model_outs.compile(optimizer='adam', loss = 'binary_crossentropy', metrics=['accuracy'])"
   ]
  },
  {
   "cell_type": "code",
   "execution_count": 16,
   "metadata": {},
   "outputs": [
    {
     "name": "stdout",
     "output_type": "stream",
     "text": [
      "Train on 1197789 samples, validate on 399263 samples\n",
      "Epoch 1/20\n",
      "1197789/1197789 [==============================] - 48s 40us/step - loss: 0.3978 - acc: 0.8257 - val_loss: 0.3880 - val_acc: 0.8276\n",
      "Epoch 2/20\n",
      "1197789/1197789 [==============================] - 48s 40us/step - loss: 0.3920 - acc: 0.8258 - val_loss: 0.3861 - val_acc: 0.8278\n",
      "Epoch 3/20\n",
      "1197789/1197789 [==============================] - 47s 40us/step - loss: 0.3907 - acc: 0.8257 - val_loss: 0.3864 - val_acc: 0.8276\n",
      "Epoch 4/20\n",
      "1197789/1197789 [==============================] - 47s 40us/step - loss: 0.3899 - acc: 0.8258 - val_loss: 0.3847 - val_acc: 0.8277\n",
      "Epoch 5/20\n",
      "1197789/1197789 [==============================] - 48s 40us/step - loss: 0.3893 - acc: 0.8260 - val_loss: 0.3863 - val_acc: 0.8276\n",
      "Epoch 6/20\n",
      "1197789/1197789 [==============================] - 48s 40us/step - loss: 0.3891 - acc: 0.8257 - val_loss: 0.3859 - val_acc: 0.8276\n",
      "Epoch 7/20\n",
      "1197789/1197789 [==============================] - 48s 40us/step - loss: 0.3888 - acc: 0.8260 - val_loss: 0.3858 - val_acc: 0.8280\n"
     ]
    },
    {
     "data": {
      "text/plain": [
       "<keras.callbacks.History at 0x1da212ebf28>"
      ]
     },
     "execution_count": 16,
     "metadata": {},
     "output_type": "execute_result"
    }
   ],
   "source": [
    "# fit the training data to the basic model\n",
    "model_outs.fit(X_train,\n",
    "               y_train,\n",
    "               validation_split = 0.25,\n",
    "               epochs = 20,\n",
    "               callbacks = [early_stopping_monitor])"
   ]
  },
  {
   "cell_type": "code",
   "execution_count": 17,
   "metadata": {},
   "outputs": [
    {
     "name": "stdout",
     "output_type": "stream",
     "text": [
      "532351/532351 [==============================] - 7s 13us/step\n",
      "Test score: 0.38958796286646724\n",
      "Test accuracy: 0.8265524062135298\n"
     ]
    }
   ],
   "source": [
    "# Make predictions on the test set\n",
    "score, acc = model_outs.evaluate(X_test, y_test)\n",
    "print('Test score:', score)\n",
    "print('Test accuracy:', acc)"
   ]
  },
  {
   "cell_type": "code",
   "execution_count": 19,
   "metadata": {},
   "outputs": [
    {
     "data": {
      "text/plain": [
       "array([[438641,   1276],\n",
       "       [ 91059,   1375]], dtype=int64)"
      ]
     },
     "execution_count": 19,
     "metadata": {},
     "output_type": "execute_result"
    }
   ],
   "source": [
    "# Make predictions on the test data\n",
    "predictions = model_outs.predict_classes(X_test)\n",
    "\n",
    "# Print the confusion matrix\n",
    "confusion_matrix(y_test, predictions)"
   ]
  },
  {
   "cell_type": "markdown",
   "metadata": {},
   "source": [
    "Increasing the model capacity improved model performance. Not only is it more accurate the the baseline model, but it also has a much better true-positive rate.\n",
    "\n",
    "This model still needs improvement but next will be to add different predictors and target variables to the model to see how models improve."
   ]
  },
  {
   "cell_type": "code",
   "execution_count": null,
   "metadata": {},
   "outputs": [],
   "source": []
  },
  {
   "cell_type": "code",
   "execution_count": null,
   "metadata": {},
   "outputs": [],
   "source": []
  },
  {
   "cell_type": "markdown",
   "metadata": {},
   "source": [
    "## Calls, No Player ID's\n",
    "\n",
    "Predictors stay the same but target labels change."
   ]
  },
  {
   "cell_type": "code",
   "execution_count": 20,
   "metadata": {},
   "outputs": [],
   "source": [
    "# Split the data into train and test sets\n",
    "X_call_train, X_call_test, y_call_train, y_call_test = train_test_split(predictors,\n",
    "                                                                        calls, \n",
    "                                                                        test_size = 0.25, \n",
    "                                                                        stratify = calls,\n",
    "                                                                        random_state = 123)"
   ]
  },
  {
   "cell_type": "code",
   "execution_count": 23,
   "metadata": {},
   "outputs": [],
   "source": [
    "# Instatiate a Sequential model\n",
    "model_calls = Sequential()\n",
    "\n",
    "# Create a basic network\n",
    "model_calls.add(Dense(300, activation = 'relu', input_shape = (X_call_train.shape[1],)))\n",
    "model_calls.add(Dense(100, activation = 'relu'))\n",
    "model_calls.add(Dense(100, activation = 'relu'))\n",
    "model_calls.add(Dense(y_call_train.shape[1], activation = 'sigmoid'))\n",
    "\n",
    "# Create a compiler\n",
    "model_calls.compile(optimizer='adam', loss = 'binary_crossentropy', metrics=['categorical_accuracy'])"
   ]
  },
  {
   "cell_type": "code",
   "execution_count": 24,
   "metadata": {
    "scrolled": false
   },
   "outputs": [
    {
     "name": "stdout",
     "output_type": "stream",
     "text": [
      "Train on 1197789 samples, validate on 399263 samples\n",
      "Epoch 1/20\n",
      "1197789/1197789 [==============================] - 50s 42us/step - loss: 0.3508 - categorical_accuracy: 0.4942 - val_loss: 0.3467 - val_categorical_accuracy: 0.4999\n",
      "Epoch 2/20\n",
      "1197789/1197789 [==============================] - 51s 42us/step - loss: 0.3449 - categorical_accuracy: 0.5003 - val_loss: 0.3444 - val_categorical_accuracy: 0.5015\n",
      "Epoch 3/20\n",
      "1197789/1197789 [==============================] - 50s 42us/step - loss: 0.3435 - categorical_accuracy: 0.5028 - val_loss: 0.3437 - val_categorical_accuracy: 0.4996\n",
      "Epoch 4/20\n",
      "1197789/1197789 [==============================] - 50s 41us/step - loss: 0.3428 - categorical_accuracy: 0.5039 - val_loss: 0.3428 - val_categorical_accuracy: 0.5047\n",
      "Epoch 5/20\n",
      "1197789/1197789 [==============================] - 50s 42us/step - loss: 0.3422 - categorical_accuracy: 0.5050 - val_loss: 0.3430 - val_categorical_accuracy: 0.5052\n",
      "Epoch 6/20\n",
      "1197789/1197789 [==============================] - 50s 42us/step - loss: 0.3421 - categorical_accuracy: 0.5055 - val_loss: 0.3426 - val_categorical_accuracy: 0.5074\n",
      "Epoch 7/20\n",
      "1197789/1197789 [==============================] - 51s 43us/step - loss: 0.3418 - categorical_accuracy: 0.5060 - val_loss: 0.3422 - val_categorical_accuracy: 0.5021\n",
      "Epoch 8/20\n",
      "1197789/1197789 [==============================] - 49s 41us/step - loss: 0.3417 - categorical_accuracy: 0.5060 - val_loss: 0.3419 - val_categorical_accuracy: 0.5070\n",
      "Epoch 9/20\n",
      "1197789/1197789 [==============================] - 52s 43us/step - loss: 0.3417 - categorical_accuracy: 0.5064 - val_loss: 0.3441 - val_categorical_accuracy: 0.4972\n",
      "Epoch 10/20\n",
      "1197789/1197789 [==============================] - 48s 40us/step - loss: 0.3416 - categorical_accuracy: 0.5064 - val_loss: 0.3424 - val_categorical_accuracy: 0.5012\n",
      "Epoch 11/20\n",
      "1197789/1197789 [==============================] - 51s 43us/step - loss: 0.3415 - categorical_accuracy: 0.5067 - val_loss: 0.3417 - val_categorical_accuracy: 0.5080\n",
      "Epoch 12/20\n",
      "1197789/1197789 [==============================] - 48s 40us/step - loss: 0.3415 - categorical_accuracy: 0.5066 - val_loss: 0.3424 - val_categorical_accuracy: 0.5064\n",
      "Epoch 13/20\n",
      "1197789/1197789 [==============================] - 50s 42us/step - loss: 0.3415 - categorical_accuracy: 0.5072 - val_loss: 0.3413 - val_categorical_accuracy: 0.5082\n",
      "Epoch 14/20\n",
      "1197789/1197789 [==============================] - 50s 42us/step - loss: 0.3414 - categorical_accuracy: 0.5070 - val_loss: 0.3414 - val_categorical_accuracy: 0.5070\n",
      "Epoch 15/20\n",
      "1197789/1197789 [==============================] - 53s 44us/step - loss: 0.3414 - categorical_accuracy: 0.5072 - val_loss: 0.3414 - val_categorical_accuracy: 0.5080\n",
      "Epoch 16/20\n",
      "1197789/1197789 [==============================] - 51s 43us/step - loss: 0.3413 - categorical_accuracy: 0.5071 - val_loss: 0.3415 - val_categorical_accuracy: 0.5020\n"
     ]
    },
    {
     "data": {
      "text/plain": [
       "<keras.callbacks.History at 0x1da2221dbe0>"
      ]
     },
     "execution_count": 24,
     "metadata": {},
     "output_type": "execute_result"
    }
   ],
   "source": [
    "# fit the training data to the basic model\n",
    "model_calls.fit(X_call_train,\n",
    "                y_call_train,\n",
    "                validation_split = 0.25,\n",
    "                epochs = 20,\n",
    "                callbacks = [early_stopping_monitor])"
   ]
  },
  {
   "cell_type": "code",
   "execution_count": 25,
   "metadata": {},
   "outputs": [
    {
     "name": "stdout",
     "output_type": "stream",
     "text": [
      "532351/532351 [==============================] - 7s 13us/step\n",
      "Test score: 0.3410769599902492\n",
      "Test accuracy: 0.5038348758612505\n"
     ]
    }
   ],
   "source": [
    "# Make predictions on the test set\n",
    "score, acc = model_calls.evaluate(X_call_test, y_call_test)\n",
    "print('Test score:', score)\n",
    "print('Test accuracy:', acc)"
   ]
  },
  {
   "cell_type": "code",
   "execution_count": 26,
   "metadata": {},
   "outputs": [],
   "source": [
    "# Make predictions on the test data\n",
    "predictions = model_calls.predict(X_call_test)"
   ]
  },
  {
   "cell_type": "code",
   "execution_count": 27,
   "metadata": {},
   "outputs": [
    {
     "data": {
      "text/plain": [
       "array([[156504,  20594,   4218,      0,   2369,   8039],\n",
       "       [  6894,  66822,   5925,      0,   1899,   8116],\n",
       "       [ 17134,  25199,  17847,      0,   2969,  29424],\n",
       "       [  3702,  11022,   5570,      0,   1277,  12584],\n",
       "       [ 25532,  12235,   7253,      0,   3847,  12119],\n",
       "       [  8594,  19036,   9887,      0,   2543,  23197]], dtype=int64)"
      ]
     },
     "execution_count": 27,
     "metadata": {},
     "output_type": "execute_result"
    }
   ],
   "source": [
    "matrix = confusion_matrix(y_call_test.values.argmax(axis=1), predictions.argmax(axis=1))\n",
    "matrix"
   ]
  },
  {
   "cell_type": "markdown",
   "metadata": {},
   "source": [
    "Looking at the confusion matrix, it appears the model wasn't able to pick up which pitches resulted in hits. More capacity may be needed"
   ]
  },
  {
   "cell_type": "markdown",
   "metadata": {},
   "source": [
    "## ``is_out``, Player ID's"
   ]
  },
  {
   "cell_type": "code",
   "execution_count": 29,
   "metadata": {},
   "outputs": [],
   "source": [
    "# Extract predictors\n",
    "predictors_ids = predictors.drop(['pitchHand_isRight', 'batSide_isRight'], axis = 1).join(all_pitches.loc[:,['batter_id', 'pitcher_id']])"
   ]
  },
  {
   "cell_type": "code",
   "execution_count": 31,
   "metadata": {},
   "outputs": [],
   "source": [
    "# Split the data into train and test sets\n",
    "X_id_train, X_id_test, y_id_train, y_id_test = train_test_split(predictors_ids,\n",
    "                                                                targets, \n",
    "                                                                test_size = 0.25, \n",
    "                                                                stratify = targets,\n",
    "                                                                random_state = 123)"
   ]
  },
  {
   "cell_type": "code",
   "execution_count": 32,
   "metadata": {
    "scrolled": true
   },
   "outputs": [
    {
     "name": "stderr",
     "output_type": "stream",
     "text": [
      "C:\\Users\\Curtis\\Anaconda3\\lib\\site-packages\\sklearn\\preprocessing\\data.py:625: DataConversionWarning: Data with input dtype int64, float64 were all converted to float64 by StandardScaler.\n",
      "  return self.partial_fit(X, y)\n",
      "C:\\Users\\Curtis\\Anaconda3\\lib\\site-packages\\sklearn\\base.py:462: DataConversionWarning: Data with input dtype int64, float64 were all converted to float64 by StandardScaler.\n",
      "  return self.fit(X, **fit_params).transform(X)\n"
     ]
    }
   ],
   "source": [
    "scaler = StandardScaler()\n",
    "\n",
    "X_id_train_scaled = scaler.fit_transform(X_id_train)"
   ]
  },
  {
   "cell_type": "code",
   "execution_count": 33,
   "metadata": {
    "scrolled": false
   },
   "outputs": [
    {
     "name": "stderr",
     "output_type": "stream",
     "text": [
      "C:\\Users\\Curtis\\Anaconda3\\lib\\site-packages\\ipykernel_launcher.py:1: DataConversionWarning: Data with input dtype int64, float64 were all converted to float64 by StandardScaler.\n",
      "  \"\"\"Entry point for launching an IPython kernel.\n"
     ]
    }
   ],
   "source": [
    "X_id_test_scaled = scaler.transform(X_id_test)"
   ]
  },
  {
   "cell_type": "code",
   "execution_count": 34,
   "metadata": {},
   "outputs": [],
   "source": [
    "# Instatiate a Sequential model\n",
    "model_ids = Sequential()\n",
    "\n",
    "# Create a 3 layers\n",
    "model_ids.add(Dense(300, activation = 'relu', input_shape = (X_id_train_scaled.shape[1],)))\n",
    "model_ids.add(Dense(100, activation = 'relu'))\n",
    "model_ids.add(Dense(1, activation = 'sigmoid'))\n",
    "\n",
    "# Create a compiler\n",
    "model_ids.compile(optimizer='adam', loss = 'binary_crossentropy', metrics=['accuracy'])"
   ]
  },
  {
   "cell_type": "code",
   "execution_count": 35,
   "metadata": {},
   "outputs": [
    {
     "name": "stdout",
     "output_type": "stream",
     "text": [
      "Train on 1197789 samples, validate on 399263 samples\n",
      "Epoch 1/20\n",
      "1197789/1197789 [==============================] - 44s 37us/step - loss: 0.3915 - acc: 0.8255 - val_loss: 0.3859 - val_acc: 0.8279\n",
      "Epoch 2/20\n",
      "1197789/1197789 [==============================] - 44s 37us/step - loss: 0.3891 - acc: 0.8256 - val_loss: 0.3848 - val_acc: 0.8277\n",
      "Epoch 3/20\n",
      "1197789/1197789 [==============================] - 44s 37us/step - loss: 0.3887 - acc: 0.8257 - val_loss: 0.3851 - val_acc: 0.8282\n",
      "Epoch 4/20\n",
      "1197789/1197789 [==============================] - 44s 37us/step - loss: 0.3885 - acc: 0.8257 - val_loss: 0.3845 - val_acc: 0.8282\n",
      "Epoch 5/20\n",
      "1197789/1197789 [==============================] - 44s 37us/step - loss: 0.3883 - acc: 0.8258 - val_loss: 0.3851 - val_acc: 0.8278\n",
      "Epoch 6/20\n",
      "1197789/1197789 [==============================] - 44s 37us/step - loss: 0.3883 - acc: 0.8259 - val_loss: 0.3845 - val_acc: 0.8278\n",
      "Epoch 7/20\n",
      "1197789/1197789 [==============================] - 45s 37us/step - loss: 0.3882 - acc: 0.8258 - val_loss: 0.3853 - val_acc: 0.8277\n",
      "Epoch 8/20\n",
      "1197789/1197789 [==============================] - 44s 37us/step - loss: 0.3881 - acc: 0.8259 - val_loss: 0.3845 - val_acc: 0.8277\n",
      "Epoch 9/20\n",
      "1197789/1197789 [==============================] - 44s 37us/step - loss: 0.3880 - acc: 0.8260 - val_loss: 0.3843 - val_acc: 0.8279\n",
      "Epoch 10/20\n",
      "1197789/1197789 [==============================] - 45s 37us/step - loss: 0.3879 - acc: 0.8261 - val_loss: 0.3852 - val_acc: 0.8282\n",
      "Epoch 11/20\n",
      "1197789/1197789 [==============================] - 44s 37us/step - loss: 0.3882 - acc: 0.8259 - val_loss: 0.3850 - val_acc: 0.8282\n",
      "Epoch 12/20\n",
      "1197789/1197789 [==============================] - 44s 37us/step - loss: 0.3879 - acc: 0.8260 - val_loss: 0.3850 - val_acc: 0.8275\n"
     ]
    },
    {
     "data": {
      "text/plain": [
       "<keras.callbacks.History at 0x1da22ca6198>"
      ]
     },
     "execution_count": 35,
     "metadata": {},
     "output_type": "execute_result"
    }
   ],
   "source": [
    "# fit the training data to the basic model\n",
    "model_ids.fit(X_id_train_scaled,\n",
    "              y_id_train,\n",
    "              validation_split = 0.25,\n",
    "              epochs = 20,\n",
    "              callbacks = [early_stopping_monitor])"
   ]
  },
  {
   "cell_type": "code",
   "execution_count": 36,
   "metadata": {},
   "outputs": [
    {
     "name": "stdout",
     "output_type": "stream",
     "text": [
      "532351/532351 [==============================] - 6s 12us/step\n",
      "Test score: 0.3887841421499502\n",
      "Test accuracy: 0.8255324024923878\n"
     ]
    }
   ],
   "source": [
    "# Make predictions on the test set\n",
    "score, acc = model_ids.evaluate(X_id_test_scaled, y_id_test)\n",
    "print('Test score:', score)\n",
    "print('Test accuracy:', acc)"
   ]
  },
  {
   "cell_type": "code",
   "execution_count": 37,
   "metadata": {},
   "outputs": [
    {
     "data": {
      "text/plain": [
       "array([[429977,   9940],\n",
       "       [ 82938,   9496]], dtype=int64)"
      ]
     },
     "execution_count": 37,
     "metadata": {},
     "output_type": "execute_result"
    }
   ],
   "source": [
    "# Make predictions on the test data\n",
    "predictions = model_ids.predict_classes(X_id_test_scaled)\n",
    "\n",
    "# Print the confusion matrix\n",
    "confusion_matrix(y_id_test, predictions)"
   ]
  },
  {
   "cell_type": "code",
   "execution_count": null,
   "metadata": {},
   "outputs": [],
   "source": []
  },
  {
   "cell_type": "markdown",
   "metadata": {},
   "source": [
    "## Calls, Player ID's"
   ]
  },
  {
   "cell_type": "code",
   "execution_count": 40,
   "metadata": {},
   "outputs": [],
   "source": [
    "# Split the data into train and test sets\n",
    "X_callid_train, X_callid_test, y_callid_train, y_callid_test = train_test_split(predictors_ids,\n",
    "                                                                                calls, \n",
    "                                                                                test_size = 0.25, \n",
    "                                                                                stratify = calls,\n",
    "                                                                                random_state = 123)"
   ]
  },
  {
   "cell_type": "code",
   "execution_count": 41,
   "metadata": {
    "scrolled": true
   },
   "outputs": [
    {
     "name": "stderr",
     "output_type": "stream",
     "text": [
      "C:\\Users\\Curtis\\Anaconda3\\lib\\site-packages\\sklearn\\preprocessing\\data.py:625: DataConversionWarning: Data with input dtype int64, float64 were all converted to float64 by StandardScaler.\n",
      "  return self.partial_fit(X, y)\n",
      "C:\\Users\\Curtis\\Anaconda3\\lib\\site-packages\\sklearn\\base.py:462: DataConversionWarning: Data with input dtype int64, float64 were all converted to float64 by StandardScaler.\n",
      "  return self.fit(X, **fit_params).transform(X)\n"
     ]
    }
   ],
   "source": [
    "scaler_calls = StandardScaler()\n",
    "\n",
    "X_callid_train_scaled = scaler_calls.fit_transform(X_callid_train)"
   ]
  },
  {
   "cell_type": "code",
   "execution_count": 42,
   "metadata": {
    "scrolled": false
   },
   "outputs": [
    {
     "name": "stderr",
     "output_type": "stream",
     "text": [
      "C:\\Users\\Curtis\\Anaconda3\\lib\\site-packages\\ipykernel_launcher.py:1: DataConversionWarning: Data with input dtype int64, float64 were all converted to float64 by StandardScaler.\n",
      "  \"\"\"Entry point for launching an IPython kernel.\n"
     ]
    }
   ],
   "source": [
    "X_callid_test_scaled = scaler_calls.transform(X_callid_test)"
   ]
  },
  {
   "cell_type": "code",
   "execution_count": 43,
   "metadata": {},
   "outputs": [],
   "source": [
    "# Instatiate a Sequential model\n",
    "model_calls_id = Sequential()\n",
    "\n",
    "# Create a basic network\n",
    "model_calls_id.add(Dense(300, activation = 'relu', input_shape = (X_callid_train_scaled.shape[1],)))\n",
    "model_calls_id.add(Dense(100, activation = 'relu'))\n",
    "model_calls_id.add(Dense(100, activation = 'relu'))\n",
    "model_calls_id.add(Dense(y_callid_train.shape[1], activation = 'sigmoid'))\n",
    "\n",
    "# Create a compiler\n",
    "model_calls_id.compile(optimizer='adam', loss = 'binary_crossentropy', metrics=['categorical_accuracy'])"
   ]
  },
  {
   "cell_type": "code",
   "execution_count": 44,
   "metadata": {
    "scrolled": false
   },
   "outputs": [
    {
     "name": "stdout",
     "output_type": "stream",
     "text": [
      "Train on 1197789 samples, validate on 399263 samples\n",
      "Epoch 1/20\n",
      "1197789/1197789 [==============================] - 52s 44us/step - loss: 0.3469 - categorical_accuracy: 0.4988 - val_loss: 0.3460 - val_categorical_accuracy: 0.5015\n",
      "Epoch 2/20\n",
      "1197789/1197789 [==============================] - 52s 43us/step - loss: 0.3451 - categorical_accuracy: 0.5001 - val_loss: 0.3463 - val_categorical_accuracy: 0.4963\n",
      "Epoch 3/20\n",
      "1197789/1197789 [==============================] - 51s 43us/step - loss: 0.3447 - categorical_accuracy: 0.5004 - val_loss: 0.3454 - val_categorical_accuracy: 0.5008\n",
      "Epoch 4/20\n",
      "1197789/1197789 [==============================] - 51s 43us/step - loss: 0.3447 - categorical_accuracy: 0.5007 - val_loss: 0.3468 - val_categorical_accuracy: 0.4967\n",
      "Epoch 5/20\n",
      "1197789/1197789 [==============================] - 51s 43us/step - loss: 0.3526 - categorical_accuracy: 0.5009 - val_loss: 0.3550 - val_categorical_accuracy: 0.5040\n",
      "Epoch 6/20\n",
      "1197789/1197789 [==============================] - 52s 43us/step - loss: 0.3543 - categorical_accuracy: 0.5012 - val_loss: 0.3549 - val_categorical_accuracy: 0.5011\n"
     ]
    },
    {
     "data": {
      "text/plain": [
       "<keras.callbacks.History at 0x1da22f35d30>"
      ]
     },
     "execution_count": 44,
     "metadata": {},
     "output_type": "execute_result"
    }
   ],
   "source": [
    "# fit the training data to the basic model\n",
    "model_calls_id.fit(X_callid_train_scaled,\n",
    "                   y_callid_train,\n",
    "                   validation_split = 0.25,\n",
    "                   epochs = 20,\n",
    "                   callbacks = [early_stopping_monitor])"
   ]
  },
  {
   "cell_type": "code",
   "execution_count": 45,
   "metadata": {},
   "outputs": [
    {
     "name": "stdout",
     "output_type": "stream",
     "text": [
      "532351/532351 [==============================] - 7s 14us/step\n",
      "Test score: 1.900280924400127\n",
      "Test accuracy: 0.39021622951718316\n"
     ]
    }
   ],
   "source": [
    "# Make predictions on the test set\n",
    "score, acc = model_calls.evaluate(X_callid_test_scaled, y_callid_test)\n",
    "print('Test score:', score)\n",
    "print('Test accuracy:', acc)"
   ]
  },
  {
   "cell_type": "code",
   "execution_count": 46,
   "metadata": {},
   "outputs": [],
   "source": [
    "# Make predictions on the test data\n",
    "predictions = model_calls.predict(X_callid_test_scaled)"
   ]
  },
  {
   "cell_type": "code",
   "execution_count": 47,
   "metadata": {},
   "outputs": [
    {
     "data": {
      "text/plain": [
       "array([[152318,  24459,   1335,   1344,   1527,  10741],\n",
       "       [ 38763,  43984,    230,   1170,    875,   4634],\n",
       "       [ 43423,  31440,    899,   1366,   1563,  13882],\n",
       "       [ 14467,  13562,    268,    564,    429,   4865],\n",
       "       [ 36695,  14804,    543,    925,    925,   7094],\n",
       "       [ 28537,  23121,    556,   1102,    899,   9042]], dtype=int64)"
      ]
     },
     "execution_count": 47,
     "metadata": {},
     "output_type": "execute_result"
    }
   ],
   "source": [
    "matrix = confusion_matrix(y_callid_test.values.argmax(axis=1), predictions.argmax(axis=1))\n",
    "matrix"
   ]
  },
  {
   "cell_type": "code",
   "execution_count": null,
   "metadata": {},
   "outputs": [],
   "source": []
  },
  {
   "cell_type": "code",
   "execution_count": null,
   "metadata": {},
   "outputs": [],
   "source": []
  },
  {
   "cell_type": "code",
   "execution_count": null,
   "metadata": {},
   "outputs": [],
   "source": []
  },
  {
   "cell_type": "code",
   "execution_count": null,
   "metadata": {},
   "outputs": [],
   "source": []
  },
  {
   "cell_type": "code",
   "execution_count": null,
   "metadata": {},
   "outputs": [],
   "source": []
  },
  {
   "cell_type": "code",
   "execution_count": null,
   "metadata": {},
   "outputs": [],
   "source": []
  },
  {
   "cell_type": "code",
   "execution_count": null,
   "metadata": {},
   "outputs": [],
   "source": []
  },
  {
   "cell_type": "code",
   "execution_count": null,
   "metadata": {},
   "outputs": [],
   "source": []
  },
  {
   "cell_type": "code",
   "execution_count": null,
   "metadata": {},
   "outputs": [],
   "source": []
  },
  {
   "cell_type": "code",
   "execution_count": null,
   "metadata": {},
   "outputs": [],
   "source": []
  },
  {
   "cell_type": "code",
   "execution_count": null,
   "metadata": {},
   "outputs": [],
   "source": []
  },
  {
   "cell_type": "code",
   "execution_count": null,
   "metadata": {},
   "outputs": [],
   "source": []
  }
 ],
 "metadata": {
  "kernelspec": {
   "display_name": "Python 3",
   "language": "python",
   "name": "python3"
  },
  "language_info": {
   "codemirror_mode": {
    "name": "ipython",
    "version": 3
   },
   "file_extension": ".py",
   "mimetype": "text/x-python",
   "name": "python",
   "nbconvert_exporter": "python",
   "pygments_lexer": "ipython3",
   "version": "3.6.7"
  }
 },
 "nbformat": 4,
 "nbformat_minor": 2
}
